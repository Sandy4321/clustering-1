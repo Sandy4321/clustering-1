{
 "cells": [
  {
   "cell_type": "code",
   "execution_count": 139,
   "metadata": {
    "collapsed": true
   },
   "outputs": [],
   "source": [
    "import numpy as np\n",
    "from sklearn.linear_model import LinearRegression, LogisticRegression\n",
    "from sklearn.preprocessing import StandardScaler, PolynomialFeatures, Normalizer\n",
    "from scipy.spatial.distance import squareform"
   ]
  },
  {
   "cell_type": "code",
   "execution_count": null,
   "metadata": {
    "collapsed": true
   },
   "outputs": [],
   "source": []
  },
  {
   "cell_type": "code",
   "execution_count": 145,
   "metadata": {
    "collapsed": false
   },
   "outputs": [],
   "source": [
    "class LinearRegression():\n",
    "    \n",
    "    def __init__(fit_intercept=True):\n",
    "        self.fit_intercept = fit_intercept\n",
    "        \n",
    "    \n",
    "    def fit(self, X, y):\n",
    "        self.w = np.linalg.inv(X.T.dot(X)).dot(X.T).dot(y)\n",
    "\n",
    "    \n",
    "    def predict(self, X):\n",
    "        return X.dot(self.w)\n",
    "\n",
    "class StandardScaler():\n",
    "\n",
    "    def __init__(self, with_mean=True, with_std=True):\n",
    "        \n",
    "        self._mean = 0.\n",
    "        self._std = 0.\n",
    "        \n",
    "    def fit(self, X):\n",
    "        self._mean = X.mean(axis = 0)\n",
    "        self._std = X.std(axis = 0)\n",
    "        re\n",
    "        \n",
    "    def transform(self, X):\n",
    "        return (X - self._mean) / self._std\n",
    "        \n",
    "    def fit_transform(self, X):\n",
    "        self.fit(X)\n",
    "        return self.transform(X)\n",
    "\n",
    "    def inverse_transform(self, X):\n",
    "        \n",
    "        if with_std is True:\n",
    "            X *= self._std\n",
    "        if with_mean is True:\n",
    "            X += self._mean\n",
    "            \n",
    "        return X\n",
    "    \n",
    "\n",
    "class PolynomialFeatures():\n",
    "    pass"
   ]
  },
  {
   "cell_type": "code",
   "execution_count": 141,
   "metadata": {
    "collapsed": true
   },
   "outputs": [],
   "source": [
    "lr = LinearRegression()"
   ]
  },
  {
   "cell_type": "code",
   "execution_count": null,
   "metadata": {
    "collapsed": true
   },
   "outputs": [],
   "source": [
    "lr.score()"
   ]
  },
  {
   "cell_type": "code",
   "execution_count": null,
   "metadata": {
    "collapsed": true
   },
   "outputs": [],
   "source": []
  },
  {
   "cell_type": "code",
   "execution_count": null,
   "metadata": {
    "collapsed": true
   },
   "outputs": [],
   "source": [
    "def simple_plot(x, y, y_regression, test_idx=None):\n",
    "    plt.scatter(x,y, s=80, c ='r', edgecolors='k', linewidths=0.3);\n",
    "    plt.plot(x,y_regression);\n",
    "    if test_idx is not None:\n",
    "        plt.scatter(x[test_idx], y[test_idx], s=80, c ='b', edgecolors='k', linewidths=0.3);\n",
    "    plt.title('MSE = {}'.format(mean_squared_error(y, y_regression)));\n",
    "    \n",
    "def zscore(x):\n",
    "    return (x - x.mean())/x.std(), x.mean(), x.std()\n",
    "\n",
    "def generate_poly_features(x, order):\n",
    "    return np.concatenate([x**i for i in range(order+1)], axis=1)\n",
    "\n",
    "def lr_poly_features(x, y, order=1):\n",
    "    '''\n",
    "    order - highest degree to generate as feature\n",
    "            ex. order = 3, gives 1, x, x**2, x**3\n",
    "    '''\n",
    "    \n",
    "    x, mean, std = zscore(x)\n",
    "    X = generate_poly_features(x, order=order)\n",
    "    y_regression, w = simple_linear_regression(X, y)\n",
    "    \n",
    "    return y_regression, w\n",
    "\n",
    "# define simple linear regression\n",
    "def simple_linear_regression(X,y):\n",
    "    w = np.linalg.inv(X.T.dot(X)).dot(X.T).dot(y) \n",
    "    return X.dot(w), w"
   ]
  },
  {
   "cell_type": "code",
   "execution_count": null,
   "metadata": {
    "collapsed": true
   },
   "outputs": [],
   "source": []
  },
  {
   "cell_type": "code",
   "execution_count": null,
   "metadata": {
    "collapsed": true
   },
   "outputs": [],
   "source": []
  },
  {
   "cell_type": "code",
   "execution_count": 148,
   "metadata": {
    "collapsed": false
   },
   "outputs": [],
   "source": [
    "scale = StandardScaler()"
   ]
  },
  {
   "cell_type": "code",
   "execution_count": 149,
   "metadata": {
    "collapsed": false
   },
   "outputs": [],
   "source": [
    "scale.fit(X)"
   ]
  },
  {
   "cell_type": "code",
   "execution_count": 47,
   "metadata": {
    "collapsed": true
   },
   "outputs": [],
   "source": [
    "from sklearn.datasets import load_digits\n",
    "from sklearn.metrics import roc_auc_score\n",
    "import matplotlib.pyplot as plt\n",
    "%matplotlib inline"
   ]
  },
  {
   "cell_type": "code",
   "execution_count": 129,
   "metadata": {
    "collapsed": true
   },
   "outputs": [],
   "source": [
    "data= load_digits(10)"
   ]
  },
  {
   "cell_type": "code",
   "execution_count": 130,
   "metadata": {
    "collapsed": false
   },
   "outputs": [
    {
     "data": {
      "text/plain": [
       "(1797, 8, 8)"
      ]
     },
     "execution_count": 130,
     "metadata": {},
     "output_type": "execute_result"
    }
   ],
   "source": [
    "data['images'].shape"
   ]
  },
  {
   "cell_type": "code",
   "execution_count": 131,
   "metadata": {
    "collapsed": false
   },
   "outputs": [],
   "source": [
    "X = data['images']\n",
    "y = data['target']\n",
    "X = X.reshape((1797, 64))"
   ]
  },
  {
   "cell_type": "code",
   "execution_count": 133,
   "metadata": {
    "collapsed": false
   },
   "outputs": [
    {
     "data": {
      "text/plain": [
       "array([0, 1, 2, ..., 8, 9, 8])"
      ]
     },
     "execution_count": 133,
     "metadata": {},
     "output_type": "execute_result"
    }
   ],
   "source": [
    "y"
   ]
  },
  {
   "cell_type": "code",
   "execution_count": 122,
   "metadata": {
    "collapsed": true
   },
   "outputs": [],
   "source": [
    "lr = LogisticRegression(penalty='l2', solver='newton-cg')"
   ]
  },
  {
   "cell_type": "code",
   "execution_count": 134,
   "metadata": {
    "collapsed": true
   },
   "outputs": [],
   "source": [
    "x_train = X[:1200]\n",
    "y_train = y[:1200]\n",
    "\n",
    "x_test = X[1200:]\n",
    "y_test = y[1200:]"
   ]
  },
  {
   "cell_type": "code",
   "execution_count": 135,
   "metadata": {
    "collapsed": false
   },
   "outputs": [
    {
     "data": {
      "text/plain": [
       "LogisticRegression(C=1.0, class_weight=None, dual=False, fit_intercept=True,\n",
       "          intercept_scaling=1, max_iter=100, multi_class='ovr', n_jobs=1,\n",
       "          penalty='l2', random_state=None, solver='newton-cg', tol=0.0001,\n",
       "          verbose=0, warm_start=False)"
      ]
     },
     "execution_count": 135,
     "metadata": {},
     "output_type": "execute_result"
    }
   ],
   "source": [
    "lr.fit(x_train, y_train)"
   ]
  },
  {
   "cell_type": "code",
   "execution_count": 136,
   "metadata": {
    "collapsed": false
   },
   "outputs": [],
   "source": [
    "y_pred = lr.predict_proba(x_test)[:, 1]"
   ]
  },
  {
   "cell_type": "code",
   "execution_count": 138,
   "metadata": {
    "collapsed": false,
    "scrolled": true
   },
   "outputs": [
    {
     "data": {
      "image/png": "[encoded data removed]",
      "text/plain": [
       "<matplotlib.figure.Figure at 0x7f58a56dddd8>"
      ]
     },
     "metadata": {},
     "output_type": "display_data"
    },
    {
     "data": {
      "image/png": "[encoded data removed]",
      "text/plain": [
       "<matplotlib.figure.Figure at 0x7f58a55e0e48>"
      ]
     },
     "metadata": {},
     "output_type": "display_data"
    },
    {
     "data": {
      "image/png": "[encoded data removed]",
      "text/plain": [
       "<matplotlib.figure.Figure at 0x7f58a54fb2b0>"
      ]
     },
     "metadata": {},
     "output_type": "display_data"
    },
    {
     "data": {
      "image/png": "[encoded data removed]",
      "text/plain": [
       "<matplotlib.figure.Figure at 0x7f58a5780c88>"
      ]
     },
     "metadata": {},
     "output_type": "display_data"
    },
    {
     "data": {
      "image/png": "[encoded data removed]",
      "text/plain": [
       "<matplotlib.figure.Figure at 0x7f58a57590b8>"
      ]
     },
     "metadata": {},
     "output_type": "display_data"
    },
    {
     "data": {
      "image/png": "[encoded data removed]",
      "text/plain": [
       "<matplotlib.figure.Figure at 0x7f58a571c6d8>"
      ]
     },
     "metadata": {},
     "output_type": "display_data"
    },
    {
     "data": {
      "image/png": "[encoded data removed]",
      "text/plain": [
       "<matplotlib.figure.Figure at 0x7f58a562e9e8>"
      ]
     },
     "metadata": {},
     "output_type": "display_data"
    },
    {
     "data": {
      "image/png": "[encoded data removed]",
      "text/plain": [
       "<matplotlib.figure.Figure at 0x7f58a55f8da0>"
      ]
     },
     "metadata": {},
     "output_type": "display_data"
    },
    {
     "data": {
      "image/png": "[encoded data removed]",
      "text/plain": [
       "<matplotlib.figure.Figure at 0x7f58a558def0>"
      ]
     },
     "metadata": {},
     "output_type": "display_data"
    },
    {
     "data": {
      "image/png": "[encoded data removed]",
      "text/plain": [
       "<matplotlib.figure.Figure at 0x7f58a5555be0>"
      ]
     },
     "metadata": {},
     "output_type": "display_data"
    }
   ],
   "source": [
    "for i in range(10):\n",
    "    plt.figure()\n",
    "    plt.imshow(lr.coef_[i].reshape(8,8))\n",
    "    plt.title(i)"
   ]
  },
  {
   "cell_type": "code",
   "execution_count": 105,
   "metadata": {
    "collapsed": false
   },
   "outputs": [
    {
     "data": {
      "text/plain": [
       "array([[  0.00000000e+00,  -1.08698248e-02,  -1.36952933e-02,\n",
       "          6.00002847e-02,  -3.86899854e-02,  -3.99445303e-02,\n",
       "         -2.39511359e-02,  -1.04553959e-03,  -2.07329217e-04,\n",
       "         -3.43615251e-02,   7.78664378e-02,   3.26845375e-02,\n",
       "          7.04445745e-02,   2.22600173e-01,  -2.11287368e-02,\n",
       "         -1.28464185e-03,  -2.07939975e-04,   9.09006291e-02,\n",
       "          1.97770665e-01,  -4.36800385e-02,  -1.37190567e-01,\n",
       "          2.02031441e-01,   2.26542806e-02,  -3.91591542e-03,\n",
       "         -4.65110808e-08,   1.20556290e-01,   1.32011109e-01,\n",
       "         -8.60472653e-02,  -3.62327071e-01,   1.35111427e-02,\n",
       "          9.45920066e-02,  -2.83697932e-03,   0.00000000e+00,\n",
       "          6.37078395e-02,   1.22209775e-01,  -1.70170292e-01,\n",
       "         -3.74210039e-01,  -1.31011874e-01,   8.43036412e-02,\n",
       "          0.00000000e+00,  -5.78141709e-03,  -1.09767137e-01,\n",
       "          8.44375967e-02,  -1.54918442e-01,  -1.79158650e-01,\n",
       "          4.69084931e-02,   6.04222575e-02,   0.00000000e+00,\n",
       "         -2.16461774e-02,  -7.99026788e-02,   7.57515026e-02,\n",
       "          3.63717419e-02,  -2.44911315e-02,   1.07217541e-01,\n",
       "         -9.90725510e-03,  -1.43489187e-03,  -1.17802929e-05,\n",
       "         -1.71651702e-02,  -5.08186658e-02,   3.59482961e-02,\n",
       "         -5.47441685e-02,  -5.61841308e-02,  -4.77015934e-02,\n",
       "         -6.85919765e-03],\n",
       "       [  0.00000000e+00,  -3.54870263e-01,   1.47907145e-01,\n",
       "          4.84889770e-02,  -4.83083507e-01,   4.35412900e-01,\n",
       "         -2.53748905e-02,   1.03515803e-01,   2.36009783e-05,\n",
       "         -4.71138346e-01,  -2.89610753e-01,  -1.64725342e-01,\n",
       "          7.10620220e-02,   1.77272278e-01,  -1.51828098e-01,\n",
       "         -1.61596929e-01,   1.92241125e-03,  -1.30946515e-01,\n",
       "          4.19441215e-02,   5.68440248e-01,   1.71569240e-01,\n",
       "         -1.21113987e-01,   1.74225343e-01,  -4.01588293e-02,\n",
       "         -5.00198666e-03,  -1.68322405e-01,   2.76136656e-01,\n",
       "          5.20947922e-01,   3.18434605e-01,   3.36639072e-01,\n",
       "         -5.27631732e-01,   2.50021988e-02,   0.00000000e+00,\n",
       "         -3.76393891e-01,  -1.45269412e-01,   1.09019925e-01,\n",
       "         -3.70363710e-01,  -3.77413716e-01,  -4.40680193e-01,\n",
       "          0.00000000e+00,   5.68295124e-03,  -6.23196324e-01,\n",
       "          1.04970535e-01,  -2.38699492e-01,   3.28982619e-01,\n",
       "         -9.37708810e-02,  -3.56110310e-01,   0.00000000e+00,\n",
       "          3.41813550e-02,  -1.60419955e-01,  -3.89766418e-02,\n",
       "          1.29963551e-01,  -6.44308610e-03,  -2.48509411e-02,\n",
       "         -2.61451837e-01,   3.16035446e-01,   1.01611889e-02,\n",
       "         -2.49868629e-01,  -4.77530447e-01,   1.40997459e-01,\n",
       "         -1.26466725e-02,   4.72138374e-02,  -1.30479868e-01,\n",
       "          2.44706722e-01],\n",
       "       [  0.00000000e+00,   1.19533142e-01,  -8.30556422e-02,\n",
       "          1.27247019e-01,   1.41107043e-03,  -6.53751896e-02,\n",
       "          1.58317789e-02,   1.91288928e-04,  -1.18827593e-04,\n",
       "          2.25889619e-01,   2.78292822e-01,   3.98997770e-02,\n",
       "          2.52937808e-01,  -9.32326307e-02,   7.00169800e-02,\n",
       "          4.69907640e-04,  -1.32590809e-06,  -8.82305650e-02,\n",
       "          1.09788452e-01,  -2.94520311e-01,   7.65579045e-02,\n",
       "         -1.17437339e-02,   9.51703357e-02,   5.11628657e-04,\n",
       "          9.48085434e-06,  -1.82992397e-01,  -3.33080544e-01,\n",
       "         -3.16193426e-01,  -5.69607082e-02,   1.93345055e-01,\n",
       "         -8.56245157e-02,   3.68111529e-05,   0.00000000e+00,\n",
       "         -1.32228870e-01,  -2.31901328e-01,  -1.23837158e-01,\n",
       "         -7.37983351e-02,  -2.53916662e-01,  -3.55397351e-01,\n",
       "          0.00000000e+00,  -2.72596822e-04,   9.40932200e-02,\n",
       "          1.38868978e-01,   5.23144153e-01,  -2.61233762e-01,\n",
       "         -4.22028289e-01,  -3.00867537e-01,   0.00000000e+00,\n",
       "          1.04326377e-03,   2.33818839e-01,   9.40852321e-03,\n",
       "          3.12994687e-01,   5.28630481e-02,   1.96743704e-01,\n",
       "          3.53105317e-02,   1.23014192e-02,   3.47484649e-04,\n",
       "          1.47109972e-01,   4.88045743e-02,   4.87623207e-02,\n",
       "         -1.44364443e-01,   2.04932922e-01,   3.01606163e-01,\n",
       "          1.92349460e-02],\n",
       "       [  0.00000000e+00,   8.42112258e-02,  -6.30893438e-02,\n",
       "          2.02721272e-01,   2.21317168e-01,   1.06357868e-01,\n",
       "          3.18104055e-01,  -1.49344350e-02,  -9.15756268e-05,\n",
       "         -7.14646196e-02,   1.42847843e-01,   7.16966290e-02,\n",
       "         -1.09103224e-01,   3.62298068e-02,   1.99283221e-01,\n",
       "         -1.47824347e-02,  -2.03400572e-03,   7.97747479e-02,\n",
       "         -1.46934477e-01,  -1.73339591e-01,   9.95512527e-02,\n",
       "          6.11672562e-03,  -1.87228136e-01,  -3.58655177e-03,\n",
       "          1.11777472e-05,  -6.68950360e-02,  -1.95670579e-01,\n",
       "         -2.93717609e-02,   3.10910371e-01,  -1.67277856e-01,\n",
       "         -3.66156472e-01,   7.83108406e-05,   0.00000000e+00,\n",
       "         -3.01836432e-01,  -1.07110556e-01,   7.60410544e-02,\n",
       "          2.58269913e-01,   2.03477246e-01,   5.67923198e-02,\n",
       "          0.00000000e+00,   1.66932362e-04,   2.13778948e-02,\n",
       "         -1.88755190e-01,  -7.09049100e-01,  -5.13490511e-02,\n",
       "          3.12390844e-01,   2.18904851e-01,   0.00000000e+00,\n",
       "          1.24837526e-04,   2.98331060e-02,   3.45361869e-02,\n",
       "         -7.00217157e-02,  -3.68761671e-01,  -2.41386557e-01,\n",
       "          1.10560771e-01,  -6.94490059e-02,   1.16933193e-05,\n",
       "          6.50299389e-02,   1.02654837e-01,   1.75848024e-01,\n",
       "         -1.05374309e-01,  -1.09958136e-01,  -1.63054469e-01,\n",
       "         -3.34307139e-01],\n",
       "       [  0.00000000e+00,  -1.13279880e-04,  -8.56597812e-02,\n",
       "         -1.50625321e-01,  -1.02923563e-02,  -1.47427603e-01,\n",
       "         -4.90525607e-02,   6.94013102e-03,   3.52913376e-08,\n",
       "         -3.41542041e-03,  -8.49919935e-02,   1.96043035e-02,\n",
       "         -2.02561028e-01,  -3.45688459e-01,  -7.09552068e-02,\n",
       "          8.89694533e-03,  -5.33233958e-07,   3.00586813e-02,\n",
       "          9.30250585e-03,   3.40651915e-02,  -1.30724987e-01,\n",
       "         -9.15892334e-02,   4.75141096e-03,   9.97082113e-03,\n",
       "          1.53253008e-03,   2.31890391e-02,   1.42140922e-01,\n",
       "         -1.54104391e-01,   6.32280431e-02,   1.26604187e-01,\n",
       "          1.99676608e-01,   4.44168846e-03,   0.00000000e+00,\n",
       "          8.66154197e-02,   2.25171688e-01,   6.39337962e-02,\n",
       "          2.54226397e-01,   2.10874767e-01,   1.29586216e-01,\n",
       "          0.00000000e+00,   7.79144753e-03,   2.59737368e-01,\n",
       "          3.17833070e-02,   1.85956025e-01,   1.42419768e-01,\n",
       "          1.41926616e-01,   4.09078918e-02,   0.00000000e+00,\n",
       "          3.02616185e-02,   1.25633537e-01,  -1.24857589e-01,\n",
       "         -1.16848532e-01,  -1.68184657e-01,  -2.35867841e-01,\n",
       "         -4.70183021e-02,  -5.65145027e-04,  -3.60082719e-06,\n",
       "         -8.08629380e-03,  -1.19916844e-01,  -1.70285957e-01,\n",
       "         -1.67223002e-01,  -2.98779614e-01,  -3.75390618e-02,\n",
       "         -7.94077412e-04]])"
      ]
     },
     "execution_count": 105,
     "metadata": {},
     "output_type": "execute_result"
    }
   ],
   "source": [
    "lr.coef_"
   ]
  },
  {
   "cell_type": "code",
   "execution_count": null,
   "metadata": {
    "collapsed": true
   },
   "outputs": [],
   "source": []
  },
  {
   "cell_type": "code",
   "execution_count": 10,
   "metadata": {
    "collapsed": false
   },
   "outputs": [],
   "source": [
    "X = np.random.rand(30,2)"
   ]
  },
  {
   "cell_type": "code",
   "execution_count": 14,
   "metadata": {
    "collapsed": false
   },
   "outputs": [],
   "source": [
    "a = np.random.rand(10,3)"
   ]
  },
  {
   "cell_type": "code",
   "execution_count": 21,
   "metadata": {
    "collapsed": false
   },
   "outputs": [
    {
     "data": {
      "text/plain": [
       "array([  1.11022302e-15,   1.05471187e-15,   1.88737914e-15])"
      ]
     },
     "execution_count": 21,
     "metadata": {},
     "output_type": "execute_result"
    }
   ],
   "source": [
    "((a - a.mean(axis=0)) / a.std(axis=0)).sum(axis=0)"
   ]
  },
  {
   "cell_type": "code",
   "execution_count": 2,
   "metadata": {
    "collapsed": true
   },
   "outputs": [],
   "source": [
    "lr = LinearRegression()"
   ]
  },
  {
   "cell_type": "code",
   "execution_count": 7,
   "metadata": {
    "collapsed": true
   },
   "outputs": [],
   "source": [
    "pf = PolynomialFeatures()"
   ]
  },
  {
   "cell_type": "code",
   "execution_count": 5,
   "metadata": {
    "collapsed": true
   },
   "outputs": [],
   "source": [
    "scale = StandardScaler()"
   ]
  },
  {
   "cell_type": "code",
   "execution_count": 12,
   "metadata": {
    "collapsed": false
   },
   "outputs": [
    {
     "ename": "AttributeError",
     "evalue": "'StandardScaler' object has no attribute 'scale_'",
     "output_type": "error",
     "traceback": [
      "\u001b[0;31m---------------------------------------------------------------------------\u001b[0m",
      "\u001b[0;31mAttributeError\u001b[0m                            Traceback (most recent call last)",
      "\u001b[0;32m<ipython-input-12-d481d1c92694>\u001b[0m in \u001b[0;36m<module>\u001b[0;34m()\u001b[0m\n\u001b[0;32m----> 1\u001b[0;31m \u001b[0mscale\u001b[0m\u001b[0;34m.\u001b[0m\u001b[0mscale_\u001b[0m\u001b[0;34m\u001b[0m\u001b[0m\n\u001b[0m",
      "\u001b[0;31mAttributeError\u001b[0m: 'StandardScaler' object has no attribute 'scale_'"
     ]
    }
   ],
   "source": [
    "scale.transform()"
   ]
  },
  {
   "cell_type": "code",
   "execution_count": 6,
   "metadata": {
    "collapsed": true
   },
   "outputs": [],
   "source": [
    "normalizer = Normalizer()"
   ]
  },
  {
   "cell_type": "code",
   "execution_count": 11,
   "metadata": {
    "collapsed": false
   },
   "outputs": [
    {
     "data": {
      "text/plain": [
       "True"
      ]
     },
     "execution_count": 11,
     "metadata": {},
     "output_type": "execute_result"
    }
   ],
   "source": [
    "pf.include_bias"
   ]
  },
  {
   "cell_type": "code",
   "execution_count": null,
   "metadata": {
    "collapsed": true
   },
   "outputs": [],
   "source": []
  }
 ],
 "metadata": {
  "kernelspec": {
   "display_name": "Python [conda root]",
   "language": "python",
   "name": "conda-root-py"
  },
  "language_info": {
   "codemirror_mode": {
    "name": "ipython",
    "version": 3
   },
   "file_extension": ".py",
   "mimetype": "text/x-python",
   "name": "python",
   "nbconvert_exporter": "python",
   "pygments_lexer": "ipython3",
   "version": "3.5.2"
  }
 },
 "nbformat": 4,
 "nbformat_minor": 2
}
