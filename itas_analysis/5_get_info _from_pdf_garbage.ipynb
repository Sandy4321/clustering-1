{
 "cells": [
  {
   "cell_type": "raw",
   "metadata": {},
   "source": [
    "0. Get pdfs from 2017\n",
    "1. get affilations\n",
    "2. get references"
   ]
  },
  {
   "cell_type": "code",
   "execution_count": 1,
   "metadata": {
    "collapsed": true
   },
   "outputs": [],
   "source": [
    "import pandas as pd"
   ]
  },
  {
   "cell_type": "code",
   "execution_count": 2,
   "metadata": {
    "collapsed": true
   },
   "outputs": [],
   "source": [
    "pdf_info = pd.read_excel('itas_pdf_url2010-2016.xls')"
   ]
  },
  {
   "cell_type": "code",
   "execution_count": 3,
   "metadata": {
    "collapsed": false
   },
   "outputs": [
    {
     "data": {
      "text/html": [
       "<div>\n",
       "<table border=\"1\" class=\"dataframe\">\n",
       "  <thead>\n",
       "    <tr style=\"text-align: right;\">\n",
       "      <th></th>\n",
       "      <th>titles</th>\n",
       "      <th>url</th>\n",
       "    </tr>\n",
       "  </thead>\n",
       "  <tbody>\n",
       "    <tr>\n",
       "      <th>0</th>\n",
       "      <td>Оптимальный речевой кодек для VoIP в децентрал...</td>\n",
       "      <td>http://www.itas2010.iitp.ru/pdf/1569325553.pdf</td>\n",
       "    </tr>\n",
       "    <tr>\n",
       "      <th>1</th>\n",
       "      <td>Зависимость мутационных процессов в геноме чел...</td>\n",
       "      <td>http://www.itas2010.iitp.ru/pdf/1569325553.pdf</td>\n",
       "    </tr>\n",
       "    <tr>\n",
       "      <th>2</th>\n",
       "      <td>Алгоритм захвата и отслеживания объекта на циф...</td>\n",
       "      <td>http://www.itas2010.iitp.ru/pdf/1569321551.pdf</td>\n",
       "    </tr>\n",
       "    <tr>\n",
       "      <th>3</th>\n",
       "      <td>Влияние случайной компоненты затухания радиоси...</td>\n",
       "      <td>http://www.itas2010.iitp.ru/pdf/1569320965.pdf</td>\n",
       "    </tr>\n",
       "    <tr>\n",
       "      <th>4</th>\n",
       "      <td>Масштабируемость модели физического уровня WiF...</td>\n",
       "      <td>http://www.itas2010.iitp.ru/pdf/1569325401.pdf</td>\n",
       "    </tr>\n",
       "  </tbody>\n",
       "</table>\n",
       "</div>"
      ],
      "text/plain": [
       "                                              titles  \\\n",
       "0  Оптимальный речевой кодек для VoIP в децентрал...   \n",
       "1  Зависимость мутационных процессов в геноме чел...   \n",
       "2  Алгоритм захвата и отслеживания объекта на циф...   \n",
       "3  Влияние случайной компоненты затухания радиоси...   \n",
       "4  Масштабируемость модели физического уровня WiF...   \n",
       "\n",
       "                                              url  \n",
       "0  http://www.itas2010.iitp.ru/pdf/1569325553.pdf  \n",
       "1  http://www.itas2010.iitp.ru/pdf/1569325553.pdf  \n",
       "2  http://www.itas2010.iitp.ru/pdf/1569321551.pdf  \n",
       "3  http://www.itas2010.iitp.ru/pdf/1569320965.pdf  \n",
       "4  http://www.itas2010.iitp.ru/pdf/1569325401.pdf  "
      ]
     },
     "execution_count": 3,
     "metadata": {},
     "output_type": "execute_result"
    }
   ],
   "source": [
    "pdf_info.head(5)\n",
    "# there is url for each title\n",
    "# digits of each url are names of file stored in ../pdf/"
   ]
  },
  {
   "cell_type": "code",
   "execution_count": 5,
   "metadata": {
    "collapsed": true
   },
   "outputs": [],
   "source": [
    "path = '/home/anvar/clustering/itas_analysis/pdf/1569605193.pdf'\n",
    "path = '/home/anvar/Desktop/old desktop/old desktop 5/NET_presentation(1).pdf'\n",
    "\n",
    "path = '/home/anvar/Desktop/old desktop/old desktop 5/Essentsializm.pdf'\n",
    "path = '/home/anvar/Desktop/old desktop/old desktop 5/1608.00607.pdf'\n",
    "path = '/home/anvar/Desktop/old desktop/old desktop 5/hw1-5.pdf'"
   ]
  },
  {
   "cell_type": "markdown",
   "metadata": {},
   "source": [
    "# Tika works, try pdftotext\n",
    "# read \n",
    "\n",
    "https://stackoverflow.com/questions/34837707/extracting-text-from-a-pdf-file-using-python\n",
    "\n",
    "https://medium.com/@rqaiserr/how-to-convert-pdfs-into-searchable-key-words-with-python-85aab86c544f\n",
    "\n",
    "https://github.com/jalan/pdftotext\n",
    "\n",
    "https://github.com/chrismattmann/tika-python"
   ]
  },
  {
   "cell_type": "code",
   "execution_count": 164,
   "metadata": {
    "collapsed": true
   },
   "outputs": [],
   "source": [
    "from tika import parser"
   ]
  },
  {
   "cell_type": "code",
   "execution_count": 218,
   "metadata": {
    "collapsed": false
   },
   "outputs": [],
   "source": [
    "import tika\n",
    "from tika import parser\n",
    "parsed = parser.from_file(path)#, xmlContent=True)\n"
   ]
  },
  {
   "cell_type": "code",
   "execution_count": null,
   "metadata": {
    "collapsed": true
   },
   "outputs": [],
   "source": [
    "''."
   ]
  },
  {
   "cell_type": "code",
   "execution_count": 234,
   "metadata": {
    "collapsed": true
   },
   "outputs": [],
   "source": [
    "def parse_pdf_itas(path):\n",
    "    \n",
    "    import tika\n",
    "    from tika import parser\n",
    "    \n",
    "    def decode_line(line):\n",
    "        return line.encode('latin1').decode('cp1251').strip()\n",
    "    \n",
    "    def decode_char(line):\n",
    "        _line = []\n",
    "        for char in line:\n",
    "            try:\n",
    "                c = char.encode('latin1').decode('cp1251')\n",
    "                c.append(_line)\n",
    "            except:\n",
    "                c = ''\n",
    "        return ''.join(_line)\n",
    "    \n",
    "    \n",
    "    pdf = parser.from_file(path)\n",
    "    text_to_decode = pdf['content']\n",
    "    text_to_decode = text_to_decode.strip().split('\\n')\n",
    "    \n",
    "    text = []\n",
    "    n_exceptions = 0\n",
    "    for line in text_to_decode:\n",
    "        try:\n",
    "            single_line = decode_line(line)\n",
    "            #single_line = line.encode('latin1').decode('cp1251').strip()\n",
    "        except:\n",
    "            n_exceptions += 1\n",
    "            single_line = decode_char(line)\n",
    "    \n",
    "        text.append(single_line)\n",
    "        \n",
    "    return text"
   ]
  },
  {
   "cell_type": "code",
   "execution_count": 235,
   "metadata": {
    "collapsed": false
   },
   "outputs": [],
   "source": [
    "pdf = parser.from_file(path)\n",
    "text_to_decode = pdf['content']\n",
    "text_to_decode = text_to_decode.split('\\n')"
   ]
  },
  {
   "cell_type": "code",
   "execution_count": 224,
   "metadata": {
    "collapsed": false
   },
   "outputs": [
    {
     "data": {
      "text/plain": [
       "str"
      ]
     },
     "execution_count": 224,
     "metadata": {},
     "output_type": "execute_result"
    }
   ],
   "source": [
    "type(pdf['content'])"
   ]
  },
  {
   "cell_type": "code",
   "execution_count": 236,
   "metadata": {
    "collapsed": false
   },
   "outputs": [],
   "source": [
    "t = parse_pdf_itas(path)"
   ]
  },
  {
   "cell_type": "code",
   "execution_count": 237,
   "metadata": {
    "collapsed": false
   },
   "outputs": [
    {
     "data": {
      "text/plain": [
       "['Анализ эффективности протокола OLSR в канале 5МГц',\n",
       " '',\n",
       " 'Александр Сафонов',\n",
       " '',\n",
       " 'ИППИ РАН',\n",
       " '',\n",
       " 'safa@iitp.ru',\n",
       " '',\n",
       " 'Евгений Хоров',\n",
       " '',\n",
       " 'ИППИ РАН',\n",
       " '',\n",
       " 'khorov@iitp.ru',\n",
       " '',\n",
       " 'Артем Красилов',\n",
       " '',\n",
       " 'ИППИ РАН',\n",
       " '',\n",
       " 'krasilov@iitp.ru',\n",
       " '',\n",
       " 'Аннотация',\n",
       " '',\n",
       " 'Начатый недавно переход на цифровое телевизион-',\n",
       " '',\n",
       " 'ное вещание высвобождает диапазоны частот ни-',\n",
       " '',\n",
       " 'же 1 ГГц. Вопрос использования этих частот бес-',\n",
       " '',\n",
       " 'проводными сетями построенными на базе WiFi',\n",
       " '',\n",
       " 'уже изучается группой IEEE 802.11af комитета по',\n",
       " '',\n",
       " 'стандартам IEEE 802 LMSC. Особый интерес пред-',\n",
       " '',\n",
       " 'ставляет возможность работы в освободившем-',\n",
       " '',\n",
       " 'ся диапазоне получивших широкую популярность',\n",
       " '',\n",
       " 'многошаговых беспроводных сетей, построенных на',\n",
       " '',\n",
       " 'базе WiFi: MANET и mesh-сетей, в работе кото-',\n",
       " '',\n",
       " 'рых важная роль отведена протоколу маршрути-',\n",
       " '',\n",
       " 'зации пакетов. В данной работе исследуется эффек-',\n",
       " '',\n",
       " 'тивность популярного протокола маршрутизации',\n",
       " '',\n",
       " 'OLSR в сети WiFi, работающей на центральной',\n",
       " '',\n",
       " 'частоте 400 МГц в канале шириной 5 МГц. В рабо-',\n",
       " '',\n",
       " 'те введены оригинальные показатели эффективно-',\n",
       " '',\n",
       " 'сти протокола маршрутизации, такие как доступ-',\n",
       " '',\n",
       " 'ность услуги маршрутизации и стоимость оказа-',\n",
       " '',\n",
       " 'ния этой услуги, представляющие интерес для ис-',\n",
       " '',\n",
       " 'следователей и инженеров для настройки прото-',\n",
       " '',\n",
       " 'кола. Определена область применимости протоко-',\n",
       " '',\n",
       " 'ла OLSR, используемого с параметрами по умол-',\n",
       " '',\n",
       " 'чанию, которая оказывается не слишком большой,',\n",
       " '',\n",
       " 'особенно в случае мобильных сетей и в сетях с вы-',\n",
       " '',\n",
       " 'сокой загрузкой. Наконец, сформулированы гипоте-',\n",
       " '',\n",
       " 'зы о возможных изменения значений параметров',\n",
       " '',\n",
       " 'OLSR, которые могут расширить область приме-',\n",
       " '',\n",
       " 'нимости этого протокола.',\n",
       " '',\n",
       " '1. Введение',\n",
       " '',\n",
       " 'В последнее время получили развитие многоша-',\n",
       " 'говые беспроводные сети (например, построенные на',\n",
       " '',\n",
       " 'торых является возможность передачи данных меж-',\n",
       " 'ду двумя станциями, находящимися вне зоны слы-',\n",
       " 'шимости друг друга, через промежуточные станции.',\n",
       " 'Топология таких сетей может меняться со временем,',\n",
       " 'поэтому для корректной работы сети необходим ме-',\n",
       " 'ханизм маршрутизации пакетов, который бы авто-',\n",
       " '',\n",
       " 'матически собирал актуальную информацию о то-',\n",
       " 'пологии сети и управлял ретрансляцией пакетов от',\n",
       " 'источника до конечного получателя.',\n",
       " '',\n",
       " 'В настоящее время сети WiFi работают в диапа-',\n",
       " 'зонах 2,4 ГГц, 5,3 ГГц, 5,8 ГГц). Начатый недавно',\n",
       " 'переход на цифровое телевизионное вещание высво-',\n",
       " 'бождает участки диапазона от 50 до 850 МГц, ко-',\n",
       " 'торые могут быть использованы для широкополос-',\n",
       " 'ной передачи данных. Группа IEEE 802.11af изуча-',\n",
       " 'ет возможность использования этих частот прото-',\n",
       " 'колом WiFi, при этом основное внимание уделяет-',\n",
       " 'ся совместному использованию этого диапазона раз-',\n",
       " 'личными технологиями, а не исследованию работо-',\n",
       " 'способности протоколов в новых условиях. Основны-',\n",
       " 'ми трудностями при проектировании многошаговых',\n",
       " 'беспроводных сетей в данном частотном диапазоне',\n",
       " 'видится сужение используемого спектра с 20 МГц',\n",
       " 'до 5 МГц, обусловленный высокой стоимостью ча-',\n",
       " 'стотных ресурсов в этом диапазоне. Стандарт IEEE',\n",
       " '802.11 предусматривает возможность работы в этом',\n",
       " 'диапазоне, однако, уменьшенные в 4 раза в след-',\n",
       " 'ствии сужения спектра номинальные скорости пе-',\n",
       " 'редачи данных могут оказаться узким местом при',\n",
       " 'решении задачи маршрутизации, так как ограничи-',\n",
       " 'вают объем информации, рассылаемой по сети.',\n",
       " '',\n",
       " 'В работе исследуется эффективность одного',\n",
       " 'из широкоиспользуемых протоколов маршрутиза-',\n",
       " 'ции OLSR в канале шириной 5 МГц на централь-',\n",
       " 'ной частоте 400 МГц. Целью исследования является',\n",
       " 'не только определение области применимости мно-',\n",
       " 'гошаговых сетей WiFi, построенных на базе OLSR,',\n",
       " 'но и определение путей изменения параметров про-',\n",
       " 'токола OLSR для увеличения этой области.',\n",
       " '',\n",
       " 'Дальнейшее изложение работы построено сле-',\n",
       " 'дующим образом. В разделе 2 приводится краткое',\n",
       " 'описание протокола OLSR. В разделе 3 представ-',\n",
       " 'лен обзор работ, посвященных исследованию рабо-',\n",
       " 'ты OLSR. В разделе 4 вводятся оригинальные, су-',\n",
       " 'перские критерии эффективности механизма марш-',\n",
       " 'рутизации, позволяющие не только оценить работу',\n",
       " 'протокола, но и определить, как его улучшить. Раз-',\n",
       " 'дел 5 содержит формальное описание эксперимен-',\n",
       " 'тов, а в разделе 6 представлен анализ численных ре-',\n",
       " '',\n",
       " '11',\n",
       " '',\n",
       " '',\n",
       " '',\n",
       " 'зультатов.',\n",
       " '',\n",
       " '2. OLSR',\n",
       " '',\n",
       " 'Объектом исследования, представленного в дан-',\n",
       " 'ной работе, является популярный протокол марш-',\n",
       " 'рутизации Optimized Link State Routing Protocol',\n",
       " '(OLSR) [1] , оптимизированный для беспроводных',\n",
       " 'сетей с динамической топологией. Протокол OLSR']"
      ]
     },
     "execution_count": 237,
     "metadata": {},
     "output_type": "execute_result"
    }
   ],
   "source": [
    "t[:150]"
   ]
  },
  {
   "cell_type": "code",
   "execution_count": 230,
   "metadata": {
    "collapsed": false
   },
   "outputs": [
    {
     "data": {
      "text/plain": [
       "1840"
      ]
     },
     "execution_count": 230,
     "metadata": {},
     "output_type": "execute_result"
    }
   ],
   "source": []
  },
  {
   "cell_type": "code",
   "execution_count": null,
   "metadata": {
    "collapsed": true
   },
   "outputs": [],
   "source": []
  },
  {
   "cell_type": "code",
   "execution_count": 48,
   "metadata": {
    "collapsed": true
   },
   "outputs": [],
   "source": [
    "from nltk.tokenize import word_tokenize"
   ]
  },
  {
   "cell_type": "code",
   "execution_count": 165,
   "metadata": {
    "collapsed": false
   },
   "outputs": [
    {
     "data": {
      "text/plain": [
       "'/home/anvar/clustering/itas_analysis/pdf/1569319241.pdf'"
      ]
     },
     "execution_count": 165,
     "metadata": {},
     "output_type": "execute_result"
    }
   ],
   "source": [
    "path"
   ]
  },
  {
   "cell_type": "code",
   "execution_count": 166,
   "metadata": {
    "collapsed": false
   },
   "outputs": [],
   "source": [
    "path = '/home/anvar/clustering/itas_analysis/pdf/1569320295.pdf'\n",
    "path = '/home/anvar/clustering/itas_analysis/pdf/1569319241.pdf'\n",
    "\n",
    "raw = parser.from_file(path)\n",
    "#print(raw['content'])"
   ]
  },
  {
   "cell_type": "code",
   "execution_count": 167,
   "metadata": {
    "collapsed": false
   },
   "outputs": [],
   "source": [
    "text = raw['content']"
   ]
  },
  {
   "cell_type": "code",
   "execution_count": 212,
   "metadata": {
    "collapsed": false,
    "scrolled": true
   },
   "outputs": [
    {
     "data": {
      "text/plain": [
       "['[7] The ns-3 network simulator.',\n",
       " '[8] IEEE Standard for Information technology �',\n",
       " '',\n",
       " 'Telecommunications and information exchange',\n",
       " 'between systems � Local and metropolitan area',\n",
       " 'networks � Speci�c requirements � Part 11: Wireless',\n",
       " 'LAN Medium Access Control (MAC) and Physical',\n",
       " 'Layer (PHY) Speci�cations, 2007.',\n",
       " '',\n",
       " '[9] J. Parsons, The Mobile Radio Propagation Channel.',\n",
       " 'John Wiley, 2000.',\n",
       " '',\n",
       " '[10] P. Nain, D. Towsley, B. Liu, and Z. Liu, �Properties of',\n",
       " 'random direction models,� in Proc. IEEE INFOCOM,',\n",
       " '2005.',\n",
       " '',\n",
       " '[11] E. Khorov and A. A. Safonov, �Multiple metrics in',\n",
       " 'MANET with End-to-End QoS support for unicast',\n",
       " 'and multicast tra�c,� in 3rd International Workshop',\n",
       " 'on Multiple Access Communications (MACOM-2010),',\n",
       " '(Barcelona, Spain), 9 2010.',\n",
       " '',\n",
       " '19',\n",
       " '',\n",
       " '',\n",
       " '\\tВведение',\n",
       " '\\tOLSR',\n",
       " '\\tПредыдущие работы',\n",
       " '\\tКритерии эффективности маршрутизации',\n",
       " '\\tДоступность услуги маршрутизации',\n",
       " '\\tСтоимость услуги маршрутизации',\n",
       " '\\tДоступность услуги по передаче голосового трафика',\n",
       " '',\n",
       " '\\tСреда моделирования и классы исследуемых сетей',\n",
       " '\\tСреда моделирования',\n",
       " '\\tКлассы топологий сети',\n",
       " '\\tПараметризация топологии сети',\n",
       " '\\tПараметризация пользовательского трафика',\n",
       " '',\n",
       " '\\tЧисленные результаты',\n",
       " '\\tРешетчатая статическая топология сети без пользовательского трафика, =0; N, , s – различны',\n",
       " '\\tРешетчатая статическая топология сети с пользовательским трафиком, >0, N, , s – различны',\n",
       " '\\tДинамическая топология, =0; N, , s,  – различны',\n",
       " '',\n",
       " '\\tВыводы',\n",
       " '\\tСписок литературы',\n",
       " '',\n",
       " '',\n",
       " '',\n",
       " '']"
      ]
     },
     "execution_count": 212,
     "metadata": {},
     "output_type": "execute_result"
    }
   ],
   "source": [
    "text.split('\\n')[-50:]"
   ]
  },
  {
   "cell_type": "code",
   "execution_count": 174,
   "metadata": {
    "collapsed": false,
    "scrolled": true
   },
   "outputs": [
    {
     "name": "stdout",
     "output_type": "stream",
     "text": [
      "Анализ эффективности протокола OLSR в канале 5МГц\n",
      "\n",
      "Александр Сафонов\n",
      "\n",
      "ИППИ РАН\n",
      "\n",
      "safa@iitp.ru\n",
      "\n",
      "Евгений Хоров\n",
      "\n",
      "ИППИ РАН\n",
      "\n",
      "khorov@iitp.ru\n",
      "\n",
      "Артем Красилов\n",
      "\n",
      "ИППИ РАН\n",
      "\n",
      "krasilov@iitp.ru\n",
      "\n",
      "Аннотация\n",
      "\n",
      "Начатый недавно переход на цифровое телевизион-\n",
      "\n",
      "ное вещание высвобождает диапазоны частот ни-\n",
      "\n",
      "же 1 ГГц. Вопрос использования этих частот бес-\n",
      "\n",
      "проводными сетями построенными на базе WiFi\n",
      "\n",
      "уже изучается группой IEEE 802.11af комитета по\n",
      "\n",
      "стандартам IEEE 802 LMSC. Особый интерес пред-\n",
      "\n",
      "ставляет возможность работы в освободившем-\n",
      "\n",
      "ся диапазоне получивших широкую популярность\n",
      "\n",
      "многошаговых беспроводных сетей, построенных на\n",
      "\n",
      "базе WiFi: MANET и mesh-сетей, в работе кото-\n",
      "\n",
      "рых важная роль отведена протоколу маршрути-\n",
      "\n",
      "зации пакетов. В данной работе исследуется эффек-\n",
      "\n",
      "тивность популярного протокола маршрутизации\n",
      "\n",
      "OLSR в сети WiFi, работающей на центральной\n",
      "\n",
      "частоте 400 МГц в канале шириной 5 МГц. В рабо-\n",
      "\n",
      "те введены оригинальные показатели эффективно-\n",
      "\n",
      "сти протокола маршрутизации, такие как доступ-\n",
      "\n",
      "ность услуги маршрутизации и стоимость оказа-\n",
      "\n",
      "ния этой услуги, представляющие интерес для ис-\n",
      "\n",
      "следователей и инженеров для настройки прото-\n",
      "\n",
      "кола. Определена область применимости протоко-\n",
      "\n",
      "ла OLSR, используемого с параметрами по умол-\n",
      "\n",
      "чанию, которая оказывается не слишком большой,\n",
      "\n",
      "особенно в случае мобильных сетей и в сетях с вы-\n",
      "\n",
      "сокой загрузкой. Наконец, сформулированы гипоте-\n",
      "\n",
      "зы о возможных изменения значений параметров\n",
      "\n",
      "OLSR, которые могут расширить область приме-\n",
      "\n",
      "нимости этого протокола.\n",
      "\n",
      "1. Введение\n",
      "\n",
      "В последнее время получили развитие многоша-\n",
      "говые беспроводные сети (например, построенные на\n",
      "базе IEEE 802.11\n"
     ]
    }
   ],
   "source": [
    "print(text[:1677].encode('latin1').decode('cp1251').strip())"
   ]
  },
  {
   "cell_type": "code",
   "execution_count": 185,
   "metadata": {
    "collapsed": false
   },
   "outputs": [
    {
     "name": "stdout",
     "output_type": "stream",
     "text": [
      "WiFi), главной особенностью ко-\n",
      "торых является возможность передачи данных меж-\n",
      "ду двумя станциями, находящимися вне зоны слы-\n",
      "шимости друг друга, через промежуточные станции.\n",
      "Топология таких сетей может меняться со временем,\n",
      "поэтому для корректной работы сети необходим ме-\n",
      "ханизм маршрутизации пакетов, который бы авто-\n",
      "\n",
      "матически собирал актуальную информацию о то-\n",
      "пологии сети и управлял ретрансляцией пакетов от\n",
      "источника до конечного получателя.\n",
      "\n",
      "В настоящее время сети WiFi работают в диапа-\n",
      "зонах 2,4 ГГц, 5,3 ГГц, 5,8 ГГц). Начатый недавно\n",
      "переход на цифровое телевизионное вещание высво-\n",
      "бождает участки диапазона от 50 до 850 МГц, ко-\n",
      "торые могут быть использованы для широкополос-\n",
      "ной передачи данных. Группа IEEE 802.11af изуча-\n",
      "ет возможность использования этих частот прото-\n",
      "колом WiFi, при этом основное внимание уделяет-\n",
      "ся совместному использованию этого диапазона раз-\n",
      "личными технологиями, а не исследованию работо-\n",
      "способности протоколов в новых условиях. Основны-\n",
      "ми трудностями при проектировании многошаговых\n",
      "беспроводных сетей в данном частотном диапазоне\n",
      "видится сужение используемого спектра с 20 МГц\n",
      "до 5 МГц, обусловленный высокой стоимостью ча-\n",
      "стотных ресурсов в этом диапазоне. Стандарт IEEE\n",
      "802.11 предусматривает возможность работы в этом\n",
      "диапазоне, однако, уменьшенные в 4 раза в след-\n",
      "ствии сужения спектра номинальные скорости пе-\n",
      "редачи данных могут оказаться узким местом при\n",
      "решении задачи маршрутизации, так как ограничи-\n",
      "вают объем информации, рассылаемой по сети.\n",
      "\n",
      "В работе исследуется эффективность одного\n",
      "из широкоиспользуемых протоколов маршрутиза-\n",
      "ции OLSR в канале шириной 5 МГц на централь-\n",
      "ной частоте 400 МГц. Целью исследования является\n",
      "не только определение области применимости мно-\n",
      "гошаговых сетей WiFi, построенных на базе OLSR,\n",
      "но и определение путей изменения параметров про-\n",
      "токола OLSR для увеличения этой области.\n",
      "\n",
      "Дальнейшее изложение работы построено сле-\n",
      "дующим образом. В разделе 2 приводится краткое\n",
      "описание протокола OLSR. В разделе 3 представ-\n",
      "лен обзор работ, посвященных исследованию рабо-\n",
      "ты OLSR. В разделе 4 вводятся оригинальные, су-\n",
      "перские критерии эффективности механизма марш-\n",
      "рутизации, позволяющие не только оценить работу\n",
      "протокола, но и определить, как его улучшить. Раз-\n",
      "дел 5 содержит формальное описание эксперимен-\n",
      "тов, а в разделе 6 представлен анализ численных ре-\n",
      "\n",
      "11\n",
      "\n",
      "\n",
      "\n",
      "зультатов.\n",
      "\n",
      "2. OLSR\n",
      "\n",
      "Объектом исследования, представленного в дан-\n",
      "ной работе, является популярный протокол марш-\n",
      "рутизации Optimized Link State Routing Protocol\n",
      "(OLSR) [1] , оптимизированный для беспроводных\n",
      "сетей с динамической топологией. Протокол OLSR\n",
      "выполняет следующие задачи: обнаружение соседей,\n",
      "распространение по сети маршрутной информации о\n",
      "звеньях между узлами для построения графа сети,\n",
      "и, наконец, поиск кратчайшего маршрута на постро-\n",
      "енном графе.\n",
      "\n",
      "Согласно протоколу OLSR, для обнаружения со-\n",
      "седей и установления с ними двунаправленных со-\n",
      "единений узел использует так называемые HELLO-\n",
      "пакеты, посылаемые широковещательно соседним\n",
      "станциям с интервалом HI, в которых указывается\n",
      "список звеньев до всех соседних c ним узлов. При\n",
      "помощи HELLO-пакетов происходит распростране-\n",
      "ние маршрутной информации на 2 шага. Чтобы пе-\n",
      "редать эту информацию остальным узлам, узел ис-\n",
      "пользует так называемые пакеты Topology Control\n",
      "(TC-пакеты), которые рассылаются по всей сети не\n",
      "реже одного раза в T I.\n",
      "\n",
      "Если узел не получает HELLO-пакетов от сосед-\n",
      "него узла в течение времени HHI, то он считает, что\n",
      "соединение с этим узлом разорвано. Аналогично по\n",
      "истечению времени T HI после получения последне-\n",
      "го TC-пакета c информацией о некотором звене сети,\n",
      "информация об этом звене становится неактуальной.\n",
      "\n",
      "Когда станции необходимо доставить пакет с\n",
      "данными конечному получателю, она на основании\n",
      "имеющейся у ней информации о существующих со-\n",
      "единения между станциями сети (звеньях) опреде-\n",
      "ляет маршрут\n"
     ]
    }
   ],
   "source": [
    "print(text[1679:5547].encode('latin1').decode('cp1251').strip())"
   ]
  },
  {
   "cell_type": "code",
   "execution_count": 188,
   "metadata": {
    "collapsed": false
   },
   "outputs": [
    {
     "name": "stdout",
     "output_type": "stream",
     "text": [
      "цепочку ретрансляторов пакета\n"
     ]
    }
   ],
   "source": [
    "print(text[5548:5579].encode('latin1').decode('cp1251').strip())"
   ]
  },
  {
   "cell_type": "code",
   "execution_count": 192,
   "metadata": {
    "collapsed": false
   },
   "outputs": [
    {
     "name": "stdout",
     "output_type": "stream",
     "text": [
      "и передает пакет следующему ретранслятору. В па-\n",
      "кете указывается только конечный получатель, а не\n",
      "сам путь, поэтому каждый ретранслятор, получив\n",
      "пакет, повторяет процедуру поиска пути до конеч-\n",
      "ного получателя.\n",
      "\n",
      "Протокол OLSR оптимизирует механизм все-\n",
      "общей (широковещательной) рассылки по всей се-\n",
      "ти. Особенностью протокола является то, что ре-\n",
      "трансляторами широковещательных пакетов явля-\n",
      "ются не все станции, а только выбранные\n"
     ]
    }
   ],
   "source": [
    "print(text[5580:6016].encode('latin1').decode('cp1251').strip())"
   ]
  },
  {
   "cell_type": "code",
   "execution_count": 191,
   "metadata": {
    "collapsed": false
   },
   "outputs": [
    {
     "data": {
      "text/plain": [
       "6016"
      ]
     },
     "execution_count": 191,
     "metadata": {},
     "output_type": "execute_result"
    }
   ],
   "source": [
    "5580 + 436"
   ]
  },
  {
   "cell_type": "code",
   "execution_count": 195,
   "metadata": {
    "collapsed": false,
    "scrolled": true
   },
   "outputs": [
    {
     "name": "stdout",
     "output_type": "stream",
     "text": [
      "MPR-\n",
      "ретрансляторы. Каждая станция выбирает свои\n",
      "MPR-ретрансляторы среди одношаговых соседей та-\n",
      "ким образом, чтобы каждый двухшаговый сосед\n",
      "этой станции был одношаговым соседом хотя бы од-\n",
      "ного MPR-ретранслятора. Узел сообщает о своем\n",
      "выборе в HELLO пакетах.\n",
      "\n",
      "MPR-ретрансляторы используются не только\n",
      "для передачи данных, но и для рассылки служебных\n",
      "TC-пакетов. Каждая станция, которая была выбра-\n",
      "\n",
      "на базовым ретранслятором, не реже одного раза в\n",
      "T I посылает TC-пакет, в котором указывает по мень-\n",
      "шей мере звенья до всех станций, которые выбра-\n",
      "ли ее в качестве MPR-ретранслятора. Когда другая\n",
      "станция получает такое сообщение, она ретрансли-\n",
      "рует его только в том случае, если была выбрана в\n",
      "качестве MPR-ретранслятора предыдущим ретранс-\n",
      "лятором данного сообщения.\n",
      "\n",
      "3. Предыдущие работы\n",
      "\n",
      "Исследованию протокала OLSR посвящено мно-\n",
      "жество работ. В большинстве из них [2], [3], [4] для\n",
      "оценки эффективности работы протокала использу-\n",
      "ются такие показатели как: суммарная емкость се-\n",
      "ти, среднее время и вероятность доставки пакета от\n",
      "отправителя до коненчного получателя. На основе\n",
      "этих показаетелей исследуется область параметров\n",
      "(число узлов в сети, топлогия, мобильность и др.),\n",
      "при которых сеть работает эффективно, а также\n",
      "проводится сравенение с другими протокалами [4]. В\n",
      "работе [5] проводится попытка настройки парметров\n",
      "OLSR для увеличения области применимости прото-\n",
      "кола.\n",
      "\n",
      "Однако, основным недостатком представленных\n",
      "выше работ, является то, что в них протокол марш-\n",
      "рутизации оценивают по таким критериям, как про-\n",
      "пускная способность сети, среднее время доставки\n",
      "пакетов из конца в конец, доля отброшенных паке-\n",
      "тов. Эти параметры являются удобными с точки зре-\n",
      "ния конечного пользователя, однако, они несут мало\n",
      "информации для разработчика протокола.\n",
      "\n",
      "Проведя измерение и получив, например, долю\n",
      "доставленных пакетов, невозможно точно опреде-\n",
      "лить, почему пакеты с пользовательскими данными\n",
      "не были доставлены: это может быть как вина про-\n",
      "токола маршрутизации, который оказался не способ-\n",
      "ным построить маршрут, так и то, что пакеты бы-\n",
      "ли потеряны в процессе доставки из-за особенностей\n",
      "механизма доступа к среде, например из-за высокой\n",
      "вероятности коллизий.\n",
      "\n",
      "В свою очередь маршрутизация может не быть\n",
      "осуществлена, как из-за недостатков протокола\n",
      "маршрутизации, так и из-за того, что источник и\n",
      "конечный получатель находятся в разных компонен-\n",
      "тах связности сети. Последний случай надо отдельно\n",
      "учитывать при анализе работы протокола.\n",
      "\n",
      "4. Критерии эффективности маршру-\n",
      "\n",
      "тизации\n",
      "\n",
      "Определим показатели эффективности маршру-\n",
      "тизации, используемые в данной работе.\n",
      "\n",
      "12\n",
      "\n",
      "\n",
      "\n",
      "4.1. Доступность услуги маршрутизации\n",
      "\n",
      "Пусть N\n"
     ]
    }
   ],
   "source": [
    "print(text[6018:8656].encode('latin1').decode('cp1251').strip())"
   ]
  },
  {
   "cell_type": "code",
   "execution_count": 199,
   "metadata": {
    "collapsed": false
   },
   "outputs": [
    {
     "name": "stdout",
     "output_type": "stream",
     "text": [
      "множество узлов сети. Определим для\n"
     ]
    }
   ],
   "source": [
    "print(text[8657:8694].encode('latin1').decode('cp1251').strip())"
   ]
  },
  {
   "cell_type": "code",
   "execution_count": 198,
   "metadata": {
    "collapsed": false
   },
   "outputs": [
    {
     "data": {
      "text/plain": [
       "8694"
      ]
     },
     "execution_count": 198,
     "metadata": {},
     "output_type": "execute_result"
    }
   ],
   "source": [
    "8657 + 37"
   ]
  },
  {
   "cell_type": "code",
   "execution_count": 200,
   "metadata": {
    "collapsed": false
   },
   "outputs": [
    {
     "ename": "UnicodeEncodeError",
     "evalue": "'latin-1' codec can't encode character '\\u2208' in position 3: ordinal not in range(256)",
     "output_type": "error",
     "traceback": [
      "\u001b[0;31m---------------------------------------------------------------------------\u001b[0m",
      "\u001b[0;31mUnicodeEncodeError\u001b[0m                        Traceback (most recent call last)",
      "\u001b[0;32m<ipython-input-200-555c3de5b874>\u001b[0m in \u001b[0;36m<module>\u001b[0;34m()\u001b[0m\n\u001b[0;32m----> 1\u001b[0;31m \u001b[0mprint\u001b[0m\u001b[0;34m(\u001b[0m\u001b[0mtext\u001b[0m\u001b[0;34m[\u001b[0m\u001b[0;36m8696\u001b[0m\u001b[0;34m:\u001b[0m\u001b[0;34m]\u001b[0m\u001b[0;34m.\u001b[0m\u001b[0mencode\u001b[0m\u001b[0;34m(\u001b[0m\u001b[0;34m'latin1'\u001b[0m\u001b[0;34m)\u001b[0m\u001b[0;34m.\u001b[0m\u001b[0mdecode\u001b[0m\u001b[0;34m(\u001b[0m\u001b[0;34m'cp1251'\u001b[0m\u001b[0;34m)\u001b[0m\u001b[0;34m.\u001b[0m\u001b[0mstrip\u001b[0m\u001b[0;34m(\u001b[0m\u001b[0;34m)\u001b[0m\u001b[0;34m)\u001b[0m\u001b[0;34m\u001b[0m\u001b[0m\n\u001b[0m",
      "\u001b[0;31mUnicodeEncodeError\u001b[0m: 'latin-1' codec can't encode character '\\u2208' in position 3: ordinal not in range(256)"
     ]
    }
   ],
   "source": [
    "print(text[8696:].encode('latin1').decode('cp1251').strip())"
   ]
  },
  {
   "cell_type": "code",
   "execution_count": 203,
   "metadata": {
    "collapsed": false
   },
   "outputs": [
    {
     "data": {
      "text/plain": [
       "'Ã¤Ã«Ã¿\\nâ\\x88\\x80x,y â\\x88\\x88 N Ã¨ t â\\x89¥ 0'"
      ]
     },
     "execution_count": 203,
     "metadata": {},
     "output_type": "execute_result"
    }
   ],
   "source": [
    "text[8690:8710].encode('utf-8')"
   ]
  },
  {
   "cell_type": "code",
   "execution_count": 204,
   "metadata": {
    "collapsed": false
   },
   "outputs": [
    {
     "data": {
      "text/plain": [
       "31430"
      ]
     },
     "execution_count": 204,
     "metadata": {},
     "output_type": "execute_result"
    }
   ],
   "source": [
    "len(text)"
   ]
  },
  {
   "cell_type": "code",
   "execution_count": 205,
   "metadata": {
    "collapsed": false
   },
   "outputs": [
    {
     "ename": "UnicodeEncodeError",
     "evalue": "'latin-1' codec can't encode character '\\ufffd' in position 36: ordinal not in range(256)",
     "output_type": "error",
     "traceback": [
      "\u001b[0;31m---------------------------------------------------------------------------\u001b[0m",
      "\u001b[0;31mUnicodeEncodeError\u001b[0m                        Traceback (most recent call last)",
      "\u001b[0;32m<ipython-input-205-1c52c9da940a>\u001b[0m in \u001b[0;36m<module>\u001b[0;34m()\u001b[0m\n\u001b[0;32m----> 1\u001b[0;31m \u001b[0mprint\u001b[0m\u001b[0;34m(\u001b[0m\u001b[0mtext\u001b[0m\u001b[0;34m[\u001b[0m\u001b[0;36m30000\u001b[0m\u001b[0;34m:\u001b[0m\u001b[0;34m]\u001b[0m\u001b[0;34m.\u001b[0m\u001b[0mencode\u001b[0m\u001b[0;34m(\u001b[0m\u001b[0;34m'latin1'\u001b[0m\u001b[0;34m)\u001b[0m\u001b[0;34m.\u001b[0m\u001b[0mdecode\u001b[0m\u001b[0;34m(\u001b[0m\u001b[0;34m'cp1251'\u001b[0m\u001b[0;34m)\u001b[0m\u001b[0;34m.\u001b[0m\u001b[0mstrip\u001b[0m\u001b[0;34m(\u001b[0m\u001b[0;34m)\u001b[0m\u001b[0;34m)\u001b[0m\u001b[0;34m\u001b[0m\u001b[0m\n\u001b[0m",
      "\u001b[0;31mUnicodeEncodeError\u001b[0m: 'latin-1' codec can't encode character '\\ufffd' in position 36: ordinal not in range(256)"
     ]
    }
   ],
   "source": [
    "print(text[30000:].encode('latin1').decode('cp1251').strip())"
   ]
  },
  {
   "cell_type": "code",
   "execution_count": 209,
   "metadata": {
    "collapsed": false,
    "scrolled": false
   },
   "outputs": [
    {
     "name": "stdout",
     "output_type": "stream",
     "text": [
      "\n",
      "ñòîðîí ïðÿìîóãîëüíèêà AxB äëÿ ðàçëè÷íûõ ñòåïå-\n",
      "íåé ìîáèëüíîñòè χ ïðè ôèêñèðîâàííîé ïëîòíîñòè\n",
      "ðàñïîëîæåíèÿ ñòàíöèé ρ0\n",
      "\n",
      "7. Âûâîäû\n",
      "\n",
      "Â ñòàòüå èññëåäîâàíà ýôôåêòèâíîñòü ïðîòîêî-\n",
      "ëà ìàðøðóòèçàöèè OLSR â áåñïðîâîäíîé ìíîãî-\n",
      "øàãîâîé ñåòè, ðàáîòàþùåé ïîä óïðàâëåíèåì IEEE\n",
      "802.11 â êàíàëå 5 ÌÃö íà öåíòðàëüíîé ÷àñòîòå\n",
      "400ÌÃö. Ïðåäñòàâëåíû íîâûå ïîêàçàòåëè ýôôåê-\n",
      "òèâíîñòè ïðîòîêîëà ìàðøðóòèçàöèè, òàêèå êàê äî-\n",
      "ñòóïíîñòü óñëóãè ìàðøðóòèçàöèè, ñòîèìîñòü óñëóãè\n",
      "ìàðøðóòèçàöèè. Ïðè ðàññìîòðåíèè ñòàöèîíàðíûõ è\n",
      "ìîáèëüíûõ ñåòåé, îïðåäåëåíà îáëàñòü ïðèìåíèìîñòè\n",
      "ïðîòîêîëà OLSR, èñïîëüçóåìîãî ñ ïàðàìåòðàìè ïî\n",
      "óìîë÷àíèþ, ñäåëàí âûâîä î íèçêîì êà÷åñòâå ðàáîòû\n",
      "ïðîòîêîëà â ìîáèëüíûõ ñåòÿõ, à òàêæå â ñåòÿõ ñ âû-\n",
      "ñîêîé çàãðóçêîé. Ïðåäñòàâëåíû âîçìîæíûå èçìåíå-\n",
      "íèÿ ïàðàìåòðîâ OLSR, êîòîðûå äîëæíû ðàñøèðèòü\n",
      "îáëàñòü ïðèìåíèìîñòè ïðîòîêîëà. Áîëåå äåòàëüíî\n",
      "âëèÿíèå êàæäîãî ïàðàìåòðà ïëàíèðóåòñÿ èçó÷èòü â\n",
      "áëèæàéøåå âðåìÿ.\n",
      "\n",
      "Ñïèñîê ëèòåðàòóðû\n",
      "\n",
      "[1] J. Macker and J. Dean, �A study of link state �ooding\n",
      "optimizations for scalable wireless networks,� Military\n",
      "Communications Conference, 2003. MILCOM 2003.\n",
      "IEEE, vol. 2, pp. 1262�1267, Oct. 2003.\n",
      "\n",
      "[2] A. Munaretto, H. Badis, K. A. Agha, and G. Pujolle, �A\n",
      "link-state qos routing protocol for ad hoc networks,� in\n",
      "\n",
      "IEEE MWCN'02: International Workshop On Mobile\n",
      "and Wireless Communications Networks, 2002.\n",
      "\n",
      "[3] S. Gowrishankar, T. Basavaraju, M. Singh, and S. K.\n",
      "Sarkar, �Scenario based performance analysis of aodv\n",
      "and olsr in mobile ad hoc networks,� in Proceedings\n",
      "of the 24th South East Asia Regional Computer\n",
      "Conference, 2007.\n",
      "\n",
      "[4] I. Glaropoulos, A. Makris, and B. Tighnavard,\n",
      "�Performance analysis of olsr and comparison with ospf\n",
      "and aodv,� School of Electrical Engineering KTH Royal\n",
      "Institute of Technology Stockholm, Sweden.\n",
      "\n",
      "[5] Y. C. Huang, S. Bhatti, and D. Parker, �Tuning olsr,�\n",
      "in The 17th Annual IEEE International Symposium on\n",
      "Personal, Indoor and Mobile Radio Communications,\n",
      "PIMRC'06, 2006.\n",
      "\n",
      "[6] ITU-T, �Recommendation G.107 The E-Model -\n",
      "A Computational Model In Use In Transmission\n",
      "Planning,� tech. rep., March 2005.\n",
      "\n",
      "[7] The ns-3 network simulator.\n",
      "[8] IEEE Standard for Information technology �\n",
      "\n",
      "Telecommunications and information exchange\n",
      "between systems � Local and metropolitan area\n",
      "networks � Speci�c requirements � Part 11: Wireless\n",
      "LAN Medium Access Control (MAC) and Physical\n",
      "Layer (PHY) Speci�cations, 2007.\n",
      "\n",
      "[9] J. Parsons, The Mobile Radio Propagation Channel.\n",
      "John Wiley, 2000.\n",
      "\n",
      "[10] P. Nain, D. Towsley, B. Liu, and Z. Liu, �Properties of\n",
      "random direction models,� in Proc. IEEE INFOCOM,\n",
      "2005.\n",
      "\n",
      "[11] E. Khorov and A. A. Safonov, �Multiple metrics in\n",
      "MANET with End-to-End QoS support for unicast\n",
      "and multicast tra�c,� in 3rd International Workshop\n",
      "on Multiple Access Communications (MACOM-2010),\n",
      "(Barcelona, Spain), 9 2010.\n",
      "\n",
      "19\n",
      "\n",
      "\n",
      "\tВведение\n",
      "\tOLSR\n",
      "\tПредыдущие работы\n",
      "\tКритерии эффективности маршрутизации\n",
      "\tДоступность услуги маршрутизации\n",
      "\tСтоимость услуги маршрутизации\n",
      "\tДоступность услуги по передаче голосового трафика\n",
      "\n",
      "\tСреда моделирования и классы исследуемых сетей\n",
      "\tСреда моделирования\n",
      "\tКлассы топологий сети\n",
      "\tПараметризация топологии сети\n",
      "\tПараметризация пользовательского трафика\n",
      "\n",
      "\tЧисленные результаты\n",
      "\tРешетчатая статическая топология сети без пользовательского трафика, =0; N, , s – различны\n",
      "\tРешетчатая статическая топология сети с пользовательским трафиком, >0, N, , s – различны\n",
      "\tДинамическая топология, =0; N, , s,  – различны\n",
      "\n",
      "\tВыводы\n",
      "\tСписок литературы\n",
      "\n",
      "\n",
      "\n",
      "\n"
     ]
    }
   ],
   "source": [
    "print(text[28000:])"
   ]
  },
  {
   "cell_type": "code",
   "execution_count": 74,
   "metadata": {
    "collapsed": false
   },
   "outputs": [
    {
     "data": {
      "text/plain": [
       "dict_keys(['metadata', 'content', 'status'])"
      ]
     },
     "execution_count": 74,
     "metadata": {},
     "output_type": "execute_result"
    }
   ],
   "source": [
    "raw.keys()"
   ]
  },
  {
   "cell_type": "code",
   "execution_count": 76,
   "metadata": {
    "collapsed": false
   },
   "outputs": [
    {
     "data": {
      "text/plain": [
       "200"
      ]
     },
     "execution_count": 76,
     "metadata": {},
     "output_type": "execute_result"
    }
   ],
   "source": [
    "raw['status']"
   ]
  },
  {
   "cell_type": "code",
   "execution_count": 112,
   "metadata": {
    "collapsed": false
   },
   "outputs": [],
   "source": [
    "# print(text)"
   ]
  },
  {
   "cell_type": "code",
   "execution_count": 17,
   "metadata": {
    "collapsed": false
   },
   "outputs": [
    {
     "ename": "LookupError",
     "evalue": "\n**********************************************************************\n  Resource 'tokenizers/punkt/PY3/english.pickle' not found.\n  Please use the NLTK Downloader to obtain the resource:  >>>\n  nltk.download()\n  Searched in:\n    - '/home/anvar/nltk_data'\n    - '/usr/share/nltk_data'\n    - '/usr/local/share/nltk_data'\n    - '/usr/lib/nltk_data'\n    - '/usr/local/lib/nltk_data'\n    - ''\n**********************************************************************",
     "output_type": "error",
     "traceback": [
      "\u001b[0;31m---------------------------------------------------------------------------\u001b[0m",
      "\u001b[0;31mLookupError\u001b[0m                               Traceback (most recent call last)",
      "\u001b[0;32m<ipython-input-17-95b2a144b0bb>\u001b[0m in \u001b[0;36m<module>\u001b[0;34m()\u001b[0m\n\u001b[0;32m----> 1\u001b[0;31m \u001b[0mword_tokenize\u001b[0m\u001b[0;34m(\u001b[0m\u001b[0mtext\u001b[0m\u001b[0;34m)\u001b[0m\u001b[0;34m\u001b[0m\u001b[0m\n\u001b[0m",
      "\u001b[0;32m/home/anvar/anaconda3/lib/python3.5/site-packages/nltk/tokenize/__init__.py\u001b[0m in \u001b[0;36mword_tokenize\u001b[0;34m(text, language)\u001b[0m\n\u001b[1;32m    107\u001b[0m     \u001b[0;34m:\u001b[0m\u001b[0mparam\u001b[0m \u001b[0mlanguage\u001b[0m\u001b[0;34m:\u001b[0m \u001b[0mthe\u001b[0m \u001b[0mmodel\u001b[0m \u001b[0mname\u001b[0m \u001b[0;32min\u001b[0m \u001b[0mthe\u001b[0m \u001b[0mPunkt\u001b[0m \u001b[0mcorpus\u001b[0m\u001b[0;34m\u001b[0m\u001b[0m\n\u001b[1;32m    108\u001b[0m     \"\"\"\n\u001b[0;32m--> 109\u001b[0;31m     return [token for sent in sent_tokenize(text, language)\n\u001b[0m\u001b[1;32m    110\u001b[0m             for token in _treebank_word_tokenize(sent)]\n\u001b[1;32m    111\u001b[0m \u001b[0;34m\u001b[0m\u001b[0m\n",
      "\u001b[0;32m/home/anvar/anaconda3/lib/python3.5/site-packages/nltk/tokenize/__init__.py\u001b[0m in \u001b[0;36msent_tokenize\u001b[0;34m(text, language)\u001b[0m\n\u001b[1;32m     91\u001b[0m     \u001b[0;34m:\u001b[0m\u001b[0mparam\u001b[0m \u001b[0mlanguage\u001b[0m\u001b[0;34m:\u001b[0m \u001b[0mthe\u001b[0m \u001b[0mmodel\u001b[0m \u001b[0mname\u001b[0m \u001b[0;32min\u001b[0m \u001b[0mthe\u001b[0m \u001b[0mPunkt\u001b[0m \u001b[0mcorpus\u001b[0m\u001b[0;34m\u001b[0m\u001b[0m\n\u001b[1;32m     92\u001b[0m     \"\"\"\n\u001b[0;32m---> 93\u001b[0;31m     \u001b[0mtokenizer\u001b[0m \u001b[0;34m=\u001b[0m \u001b[0mload\u001b[0m\u001b[0;34m(\u001b[0m\u001b[0;34m'tokenizers/punkt/{0}.pickle'\u001b[0m\u001b[0;34m.\u001b[0m\u001b[0mformat\u001b[0m\u001b[0;34m(\u001b[0m\u001b[0mlanguage\u001b[0m\u001b[0;34m)\u001b[0m\u001b[0;34m)\u001b[0m\u001b[0;34m\u001b[0m\u001b[0m\n\u001b[0m\u001b[1;32m     94\u001b[0m     \u001b[0;32mreturn\u001b[0m \u001b[0mtokenizer\u001b[0m\u001b[0;34m.\u001b[0m\u001b[0mtokenize\u001b[0m\u001b[0;34m(\u001b[0m\u001b[0mtext\u001b[0m\u001b[0;34m)\u001b[0m\u001b[0;34m\u001b[0m\u001b[0m\n\u001b[1;32m     95\u001b[0m \u001b[0;34m\u001b[0m\u001b[0m\n",
      "\u001b[0;32m/home/anvar/anaconda3/lib/python3.5/site-packages/nltk/data.py\u001b[0m in \u001b[0;36mload\u001b[0;34m(resource_url, format, cache, verbose, logic_parser, fstruct_reader, encoding)\u001b[0m\n\u001b[1;32m    806\u001b[0m \u001b[0;34m\u001b[0m\u001b[0m\n\u001b[1;32m    807\u001b[0m     \u001b[0;31m# Load the resource.\u001b[0m\u001b[0;34m\u001b[0m\u001b[0;34m\u001b[0m\u001b[0m\n\u001b[0;32m--> 808\u001b[0;31m     \u001b[0mopened_resource\u001b[0m \u001b[0;34m=\u001b[0m \u001b[0m_open\u001b[0m\u001b[0;34m(\u001b[0m\u001b[0mresource_url\u001b[0m\u001b[0;34m)\u001b[0m\u001b[0;34m\u001b[0m\u001b[0m\n\u001b[0m\u001b[1;32m    809\u001b[0m \u001b[0;34m\u001b[0m\u001b[0m\n\u001b[1;32m    810\u001b[0m     \u001b[0;32mif\u001b[0m \u001b[0mformat\u001b[0m \u001b[0;34m==\u001b[0m \u001b[0;34m'raw'\u001b[0m\u001b[0;34m:\u001b[0m\u001b[0;34m\u001b[0m\u001b[0m\n",
      "\u001b[0;32m/home/anvar/anaconda3/lib/python3.5/site-packages/nltk/data.py\u001b[0m in \u001b[0;36m_open\u001b[0;34m(resource_url)\u001b[0m\n\u001b[1;32m    924\u001b[0m \u001b[0;34m\u001b[0m\u001b[0m\n\u001b[1;32m    925\u001b[0m     \u001b[0;32mif\u001b[0m \u001b[0mprotocol\u001b[0m \u001b[0;32mis\u001b[0m \u001b[0;32mNone\u001b[0m \u001b[0;32mor\u001b[0m \u001b[0mprotocol\u001b[0m\u001b[0;34m.\u001b[0m\u001b[0mlower\u001b[0m\u001b[0;34m(\u001b[0m\u001b[0;34m)\u001b[0m \u001b[0;34m==\u001b[0m \u001b[0;34m'nltk'\u001b[0m\u001b[0;34m:\u001b[0m\u001b[0;34m\u001b[0m\u001b[0m\n\u001b[0;32m--> 926\u001b[0;31m         \u001b[0;32mreturn\u001b[0m \u001b[0mfind\u001b[0m\u001b[0;34m(\u001b[0m\u001b[0mpath_\u001b[0m\u001b[0;34m,\u001b[0m \u001b[0mpath\u001b[0m \u001b[0;34m+\u001b[0m \u001b[0;34m[\u001b[0m\u001b[0;34m''\u001b[0m\u001b[0;34m]\u001b[0m\u001b[0;34m)\u001b[0m\u001b[0;34m.\u001b[0m\u001b[0mopen\u001b[0m\u001b[0;34m(\u001b[0m\u001b[0;34m)\u001b[0m\u001b[0;34m\u001b[0m\u001b[0m\n\u001b[0m\u001b[1;32m    927\u001b[0m     \u001b[0;32melif\u001b[0m \u001b[0mprotocol\u001b[0m\u001b[0;34m.\u001b[0m\u001b[0mlower\u001b[0m\u001b[0;34m(\u001b[0m\u001b[0;34m)\u001b[0m \u001b[0;34m==\u001b[0m \u001b[0;34m'file'\u001b[0m\u001b[0;34m:\u001b[0m\u001b[0;34m\u001b[0m\u001b[0m\n\u001b[1;32m    928\u001b[0m         \u001b[0;31m# urllib might not use mode='rb', so handle this one ourselves:\u001b[0m\u001b[0;34m\u001b[0m\u001b[0;34m\u001b[0m\u001b[0m\n",
      "\u001b[0;32m/home/anvar/anaconda3/lib/python3.5/site-packages/nltk/data.py\u001b[0m in \u001b[0;36mfind\u001b[0;34m(resource_name, paths)\u001b[0m\n\u001b[1;32m    646\u001b[0m     \u001b[0msep\u001b[0m \u001b[0;34m=\u001b[0m \u001b[0;34m'*'\u001b[0m \u001b[0;34m*\u001b[0m \u001b[0;36m70\u001b[0m\u001b[0;34m\u001b[0m\u001b[0m\n\u001b[1;32m    647\u001b[0m     \u001b[0mresource_not_found\u001b[0m \u001b[0;34m=\u001b[0m \u001b[0;34m'\\n%s\\n%s\\n%s'\u001b[0m \u001b[0;34m%\u001b[0m \u001b[0;34m(\u001b[0m\u001b[0msep\u001b[0m\u001b[0;34m,\u001b[0m \u001b[0mmsg\u001b[0m\u001b[0;34m,\u001b[0m \u001b[0msep\u001b[0m\u001b[0;34m)\u001b[0m\u001b[0;34m\u001b[0m\u001b[0m\n\u001b[0;32m--> 648\u001b[0;31m     \u001b[0;32mraise\u001b[0m \u001b[0mLookupError\u001b[0m\u001b[0;34m(\u001b[0m\u001b[0mresource_not_found\u001b[0m\u001b[0;34m)\u001b[0m\u001b[0;34m\u001b[0m\u001b[0m\n\u001b[0m\u001b[1;32m    649\u001b[0m \u001b[0;34m\u001b[0m\u001b[0m\n\u001b[1;32m    650\u001b[0m \u001b[0;34m\u001b[0m\u001b[0m\n",
      "\u001b[0;31mLookupError\u001b[0m: \n**********************************************************************\n  Resource 'tokenizers/punkt/PY3/english.pickle' not found.\n  Please use the NLTK Downloader to obtain the resource:  >>>\n  nltk.download()\n  Searched in:\n    - '/home/anvar/nltk_data'\n    - '/usr/share/nltk_data'\n    - '/usr/local/share/nltk_data'\n    - '/usr/lib/nltk_data'\n    - '/usr/local/lib/nltk_data'\n    - ''\n**********************************************************************"
     ]
    }
   ],
   "source": [
    "word_tokenize(text, language='russian')"
   ]
  },
  {
   "cell_type": "code",
   "execution_count": 111,
   "metadata": {
    "collapsed": false
   },
   "outputs": [],
   "source": [
    "# path = '/home/anvar/clustering/itas_analysis/pdf/1569320295.pdf'\n",
    "\n",
    "# raw = parser.from_file(path)\n",
    "# print(raw['content'])"
   ]
  },
  {
   "cell_type": "code",
   "execution_count": 88,
   "metadata": {
    "collapsed": false
   },
   "outputs": [
    {
     "data": {
      "text/plain": [
       "str"
      ]
     },
     "execution_count": 88,
     "metadata": {},
     "output_type": "execute_result"
    }
   ],
   "source": [
    "type(raw['content'])"
   ]
  },
  {
   "cell_type": "code",
   "execution_count": 110,
   "metadata": {
    "collapsed": false
   },
   "outputs": [],
   "source": [
    "# raw['content'].split('\\n')"
   ]
  },
  {
   "cell_type": "code",
   "execution_count": 153,
   "metadata": {
    "collapsed": false
   },
   "outputs": [],
   "source": [
    "import pdftotext\n",
    "\n",
    "# Load your PDF\n",
    "with open(path, \"rb\") as f:\n",
    "    pdf = pdftotext.PDF(f)"
   ]
  },
  {
   "cell_type": "code",
   "execution_count": 155,
   "metadata": {
    "collapsed": false
   },
   "outputs": [
    {
     "data": {
      "text/plain": [
       "<pdftotext.PDF at 0x7f057a1f6210>"
      ]
     },
     "execution_count": 155,
     "metadata": {},
     "output_type": "execute_result"
    }
   ],
   "source": [
    "pdf"
   ]
  },
  {
   "cell_type": "code",
   "execution_count": 163,
   "metadata": {
    "collapsed": false,
    "scrolled": false
   },
   "outputs": [
    {
     "name": "stdout",
     "output_type": "stream",
     "text": [
      "          Анализ эффективности протокола OLSR в канале 5МГц\n",
      "              Александр Сафонов              Евгений Хоров             Артем Красилов\n",
      "                   ИППИ РАН                   ИППИ РАН                    ИППИ РАН\n",
      "                   safa@iitp.ru              khorov@iitp.ru             krasilov@iitp.ru\n",
      "                  Аннотация                           матически собирал актуальную информацию о то-\n",
      "                                                      пологии сети и управлял ретрансляцией пакетов от\n",
      "Начатый недавно переход на цифровое телевизион-       источника до конечного получателя.\n",
      "ное вещание высвобождает диапазоны частот ни-             В настоящее время сети WiFi работают в диапа-\n",
      "же 1 ГГц. Вопрос использования этих частот бес-       зонах 2,4 ГГц, 5,3 ГГц, 5,8 ГГц). Начатый недавно\n",
      "проводными сетями построенными на базе WiFi           переход на цифровое телевизионное вещание высво-\n",
      "уже изучается группой IEEE 802.11af комитета по       бождает участки диапазона от 50 до 850 МГц, ко-\n",
      "стандартам IEEE 802 LMSC. Особый интерес пред-        торые могут быть использованы для широкополос-\n",
      "ставляет возможность работы в освободившем-           ной передачи данных. Группа IEEE 802.11af изуча-\n",
      "ся диапазоне получивших широкую популярность          ет возможность использования этих частот прото-\n",
      "многошаговых беспроводных сетей, построенных на       колом WiFi, при этом основное внимание уделяет-\n",
      "базе WiFi: MANET и mesh-сетей, в работе кото-         ся совместному использованию этого диапазона раз-\n",
      "рых важная роль отведена протоколу маршрути-          личными технологиями, а не исследованию работо-\n",
      "зации пакетов. В данной работе исследуется эффек-     способности протоколов в новых условиях. Основны-\n",
      "тивность популярного протокола маршрутизации          ми трудностями при проектировании многошаговых\n",
      "OLSR в сети WiFi, работающей на центральной           беспроводных сетей в данном частотном диапазоне\n",
      "частоте 400 МГц в канале шириной 5 МГц. В рабо-       видится сужение используемого спектра с 20 МГц\n",
      "те введены оригинальные показатели эффективно-        до 5 МГц, обусловленный высокой стоимостью ча-\n",
      "сти протокола маршрутизации, такие как доступ-        стотных ресурсов в этом диапазоне. Стандарт IEEE\n",
      "ность услуги маршрутизации и стоимость оказа-         802.11 предусматривает возможность работы в этом\n",
      "ния этой услуги, представляющие интерес для ис-       диапазоне, однако, уменьшенные в 4 раза в след-\n",
      "следователей и инженеров для настройки прото-         ствии сужения спектра номинальные скорости пе-\n",
      "кола. Определена область применимости протоко-        редачи данных могут оказаться узким местом при\n",
      "ла OLSR, используемого с параметрами по умол-         решении задачи маршрутизации, так как ограничи-\n",
      "чанию, которая оказывается не слишком большой,        вают объем информации, рассылаемой по сети.\n",
      "особенно в случае мобильных сетей и в сетях с вы-         В   работе  исследуется  эффективность   одного\n",
      "сокой загрузкой. Наконец, сформулированы гипоте-      из широкоиспользуемых протоколов маршрутиза-\n",
      "зы о возможных изменения значений параметров          ции OLSR в канале шириной 5 МГц на централь-\n",
      "OLSR, которые могут расширить область приме-          ной частоте 400 МГц. Целью исследования является\n",
      "нимости этого протокола.                              не только определение области применимости мно-\n",
      "                                                      гошаговых сетей WiFi, построенных на базе OLSR,\n",
      "                                                      но и определение путей изменения параметров про-\n",
      "1. Введение                                           токола OLSR для увеличения этой области.\n",
      "                                                          Дальнейшее изложение работы построено сле-\n",
      "    В последнее время получили развитие многоша-      дующим образом. В разделе 2 приводится краткое\n",
      "говые беспроводные сети (например, построенные на     описание протокола OLSR. В разделе 3 представ-\n",
      "базе IEEE 802.11 \u0015 WiFi), главной особенностью ко-    лен обзор работ, посвященных исследованию рабо-\n",
      "торых является возможность передачи данных меж-       ты OLSR. В разделе 4 вводятся оригинальные, су-\n",
      "ду двумя станциями, находящимися вне зоны слы-        перские критерии эффективности механизма марш-\n",
      "шимости друг друга, через промежуточные станции.      рутизации, позволяющие не только оценить работу\n",
      "Топология таких сетей может меняться со временем,     протокола, но и определить, как его улучшить. Раз-\n",
      "поэтому для корректной работы сети необходим ме-      дел 5 содержит формальное описание эксперимен-\n",
      "ханизм маршрутизации пакетов, который бы авто-        тов, а в разделе 6 представлен анализ численных ре-\n",
      "                                                   11\n",
      "\n"
     ]
    }
   ],
   "source": [
    "print(pdf[0].encode('latin1').decode('cp1251'))"
   ]
  },
  {
   "cell_type": "code",
   "execution_count": 162,
   "metadata": {
    "collapsed": false
   },
   "outputs": [
    {
     "data": {
      "text/plain": [
       "'                                                                                     Φ.        Ñòîèìîñòü ïðåäîñòàâëåíèÿ óñëóãè îäíîàäðåñíîé\\n                                                                                     ìàðøðóòèçàöèè                         V   ïðàêòè÷åñêè íå çàâèñèò îò ñòåïå-\\n                                         Route avaibility\\n                                                                                     íè ìîáèëüíîñòè, à îïðåäåëÿåòñÿ òîëüêî ïëîòíîñòüþ\\n                                                                                     ðàñïîëîæåíèÿ ñòàíöèé, ïðè ýòîì ÷åì âûøå ïëîò-\\n  100             ●\\n                  ●\\n                  ●                 ●\\n                                    ●     ●\\n                                          ●\\n                                                      ●            ●      ●\\n         99\\n                                    ●\\n                                          ●\\n                                          ●\\n                                                      ●\\n                                                                   ●\\n                                                                          ●          íîñòü ñòàíöèé òåì âûøå                                 V.\\n                                                      ●\\n                                                      ●\\n                                                                   ●\\n         98\\n                                                                   ●\\n                                                                          ●\\n                                                                                               Çàâèñèìîñòè âåëè÷èí                           ΦèV         îò ñîîòíîøåíèÿ ñòî-\\n         97                                                                          ðîí ïðÿìîóãîëüíèêà                             s    äëÿ ðàçëè÷íûõ ñòåïåíåé ìî-\\n         96                                                                          áèëüíîñòè ïðåäñòàâëåíû ñîîòâåòñòâåííî íà ðèñ.11 è\\n         95                                                                          12.\\n         94\\n         93\\nPhi, %   92                                                                                                                              Route avaibility\\n         91\\n                              Mobility\\n         90                                                                          100.0\\n                          static−ro                                                                   ●\\n         89           ●   low−ro                                                      99.5\\n                                                                                      99.0                            ●\\n         88               meduim−ro\\n                          high−ro                                                     98.5                                           ●             ●\\n                                                                                      98.0                                                                     ●\\n         87           ●   static−4*ro                                                                                                                                  ●       ●\\n                      ●\\n                          low−4*ro                                                    97.5\\n         86\\n                      ●   meduim−4*ro                                                 97.0\\n         85               high−4*ro                                                   96.5\\n         84                                                                           96.0\\n                                                                                      95.5\\n                  4                 9    16          25           36      49          95.0\\n                                                                                     Phi, %\\n                                                                                      94.5\\n                                                                                      94.0\\n                                         Number of nodes                              93.5\\n                                                                                      93.0\\n                                                                                      92.5\\n                                                                                      92.0\\n                                                                                      91.5\\n                                                                                                                Mobility\\nÐèñ. 9. Çàâèñèìîñòü çíà÷åíèÿ                     Φ îò ÷èñëà ñòàíöèé                   91.0\\n                                                                                      90.5                        static\\nñåòè          N   äëÿ ðàçëè÷íûõ           ñòåïåíåé ìîáèëüíîñòè χ è                    90.0                  ●     low\\n                                                                                      89.5                        meduim\\nïëîòíîñòè                 ρ                                                                                       high\\n                                                                                      89.0\\n                                                                                      88.5\\n                                                                                                    01x49           02x25          03x16         04x12       05x10   06x08   07x07\\n                                                                                                                                           Number of nodes\\n                                         Channel busy\\n     1.00\\n                              Mobility\\n     0.95                                                                            Ðèñ. 11. Çàâèñèìîñòü çíà÷åíèÿ                                 Φ îò ñîîòíîøåíèÿ\\n     0.90                 static−ro\\n     0.85\\n                      ●   low−ro                                                     ñòîðîí ïðÿìîóãîëüíèêà                                  AxB äëÿ ðàçëè÷íûõ ñòåïå-\\n                          meduim−ro\\n     0.80                 high−ro                                                    íåé ìîáèëüíîñòè                           χ   ïðè ôèêñèðîâàííîé ïëîòíîñòè\\n     0.75             ●   static−4*ro\\n                      ●\\n                          low−4*ro\\n                                                                                     ðàñïîëîæåíèÿ ñòàíöèé                                   ρ0\\n     0.70\\n     0.65\\n                      ●   meduim−4*ro\\n                          high−4*ro\\n     0.60\\n     0.55                                                                                      Ïîëó÷åííûå ðåçóëüòàòû, ïîêàçûâàþò, ÷òî ñ óâå-\\nV, % 0.50                                                                            ëè÷åíèåì ñïëþùåííîñòè ïðÿìîóãîëüíèêà            s, çíà÷å-\\n                                                                          ●\\n     0.45                                                                 ●\\n                                                                          ●          íèå       Φ óâåëè÷èâàåòñÿ. Îáúÿñíÿåòñÿ ýòî òåì, ÷òî â áî-\\n     0.40\\n     0.35                                                          ●\\n                                                                                     ëåå âûòÿíóòîé òîïîëîãèè ñòàíöèè â îñíîâíîì äâèãà-\\n                                                                   ●\\n                                                                   ●\\n     0.30                                                                            þòñÿ ìåæäó äëèííûìè ñòîðîíàìè ïðÿìîóãîëüíèêà,\\n     0.25                                             ●\\n                                                      ●\\n                                                                                     è ñåòü ñòàíîâèòñÿ áîëåå \\x11ïîõîæåé\\x11 íà ñòàòè÷åñêóþ.\\n     0.20\\n                                          ●\\n     0.15                                 ●\\n                                          ●\\n                                                                                               Ïîâûñèòü ýôôåêòèâíîñòü ðàáîòû ïðîòîêîëà â\\n     0.10                                                                 ●\\n                                    ●\\n                                    ●\\n                                          ●\\n                                                      ●\\n                                                                   ●\\n                                                                                     ìîáèëüíîì ñöåíàðèè ìîæíî óìåíüøèâ èíòåðâàëû                                              HI\\n     0.05         ●\\n                  ●                 ●\\n     0.00\\n                  ●\\n                                                                                     è        TI   ðàññûëêè Hello- è ÒÑ-ïàêåòîâ.\\n                  4                 9    16          25           36      49                   Ðåçóëüòàòû ýêñïåðèìåíòîâ, ïðîâåäåííûõ íàä ñå-\\n                                                                                     òüþ ñ äèíàìè÷åñêîé òîïîëîãèåé, ïîêàçûâàþò, ÷òî\\n                                         Number of nodes\\n                                                                                     äàæå           â     îòñóòñòâèè                     ïîëüçîâàòåëüñêîãî             òðàôèêà,\\n                                                                                     OLSR ñ ïàðàìåòðàìè ïî-óìîë÷àíèþ, íå ñïîñîáåí\\n                                                                                     îáåñïå÷èòü ìàðøðóòèçàöèþ â ìîáèëüíîé ñåòè: â ñåòè\\nÐèñ. 10.              Çàâèñèìîñòü çíà÷åíèÿ                 V   îò ÷èñëà ñòàí-        èç 49 ñòàíöèé ïðè ïëîòíîñòè                                       4ρ0   äîñòóïíîñòü óñëó-\\nöèé ñåòè              N   äëÿ ðàçëè÷íûõ ñòåïåíåé ìîáèëüíîñòè                         ãè ìàðøðóòèçàöèè ìåíüøå 95%. Ïîýòîìó ïðîâåäåíèå\\nχ        è ïëîòíîñòè               ρ                                                 ýêñïåðèìåíòîâ ñ äèíàìè÷åñêîé òîïîëîãèåé è ïîëüçî-\\n                                                                                     âàòåëüñêèì òðàôèêîì íå èìååò ñìûñëà.\\n                                                                                18\\n'"
      ]
     },
     "execution_count": 162,
     "metadata": {},
     "output_type": "execute_result"
    }
   ],
   "source": [
    "pdf[-2]"
   ]
  },
  {
   "cell_type": "code",
   "execution_count": 116,
   "metadata": {
    "collapsed": false
   },
   "outputs": [],
   "source": [
    "import pdfminer"
   ]
  },
  {
   "cell_type": "code",
   "execution_count": 37,
   "metadata": {
    "collapsed": false
   },
   "outputs": [],
   "source": [
    "from pdfminer.pdfinterp import PDFResourceManager, PDFPageInterpreter\n",
    "from pdfminer.converter import TextConverter\n",
    "from pdfminer.layout import LAParams\n",
    "from pdfminer.pdfpage import PDFPage\n",
    "from io import StringIO"
   ]
  },
  {
   "cell_type": "code",
   "execution_count": 68,
   "metadata": {
    "collapsed": true
   },
   "outputs": [],
   "source": [
    "def convert_pdf_to_txt(path):\n",
    "    rsrcmgr = PDFResourceManager()\n",
    "    retstr = StringIO()\n",
    "    codec = 'utf-8'\n",
    "    #codec = 'unicode_escape'\n",
    "    #codec = 'cp1251'\n",
    "    laparams = LAParams()\n",
    "    device = TextConverter(rsrcmgr, retstr, codec=codec, laparams=laparams)\n",
    "    fp = open(path, 'rb')\n",
    "    interpreter = PDFPageInterpreter(rsrcmgr, device)\n",
    "    password = \"\"\n",
    "    maxpages = 0\n",
    "    caching = True\n",
    "    pagenos=set()\n",
    "\n",
    "    for page in PDFPage.get_pages(fp, pagenos, maxpages=maxpages, password=password,caching=caching, check_extractable=True):\n",
    "        interpreter.process_page(page)\n",
    "\n",
    "    text = retstr.getvalue()\n",
    "\n",
    "    fp.close()\n",
    "    device.close()\n",
    "    retstr.close()\n",
    "    return text"
   ]
  },
  {
   "cell_type": "code",
   "execution_count": 69,
   "metadata": {
    "collapsed": true
   },
   "outputs": [],
   "source": [
    "path = '/home/anvar/Desktop/1569319241-2.pdf'"
   ]
  },
  {
   "cell_type": "code",
   "execution_count": 70,
   "metadata": {
    "collapsed": false
   },
   "outputs": [],
   "source": [
    "t = convert_pdf_to_txt(path)"
   ]
  },
  {
   "cell_type": "code",
   "execution_count": 78,
   "metadata": {
    "collapsed": true
   },
   "outputs": [],
   "source": [
    "from html.parser import HTMLParser"
   ]
  },
  {
   "cell_type": "code",
   "execution_count": null,
   "metadata": {
    "collapsed": true
   },
   "outputs": [],
   "source": [
    "# docker run -ti --rm -v /home/anvar/clustering/itas_analysis/pdf:/pdf bwits/pdf2htmlex pdf2htmlEX --zoom 1.3 1569319241.pdf"
   ]
  },
  {
   "cell_type": "code",
   "execution_count": 89,
   "metadata": {
    "collapsed": false
   },
   "outputs": [],
   "source": [
    "path = '/home/anvar/clustering/itas_analysis/pdf/1569319241.html'"
   ]
  },
  {
   "cell_type": "code",
   "execution_count": 90,
   "metadata": {
    "collapsed": true
   },
   "outputs": [],
   "source": [
    "parser = HTMLParser()"
   ]
  },
  {
   "cell_type": "code",
   "execution_count": 91,
   "metadata": {
    "collapsed": true
   },
   "outputs": [],
   "source": [
    "parser.feed(path)"
   ]
  },
  {
   "cell_type": "code",
   "execution_count": 95,
   "metadata": {
    "collapsed": false
   },
   "outputs": [],
   "source": [
    "parser.handle_data(path)"
   ]
  },
  {
   "cell_type": "code",
   "execution_count": 101,
   "metadata": {
    "collapsed": false
   },
   "outputs": [],
   "source": [
    "from bs4 import BeautifulSoup"
   ]
  },
  {
   "cell_type": "code",
   "execution_count": 102,
   "metadata": {
    "collapsed": true
   },
   "outputs": [],
   "source": [
    "import urllib"
   ]
  },
  {
   "cell_type": "code",
   "execution_count": 105,
   "metadata": {
    "collapsed": true
   },
   "outputs": [],
   "source": [
    "with open(path, 'rb') as f:\n",
    "    a = f.read()"
   ]
  },
  {
   "cell_type": "code",
   "execution_count": 106,
   "metadata": {
    "collapsed": false
   },
   "outputs": [],
   "source": [
    "soup = BeautifulSoup(a, 'html.parser')"
   ]
  },
  {
   "cell_type": "code",
   "execution_count": null,
   "metadata": {
    "collapsed": true
   },
   "outputs": [],
   "source": [
    "BeautifulSoup()"
   ]
  },
  {
   "cell_type": "code",
   "execution_count": 121,
   "metadata": {
    "collapsed": false
   },
   "outputs": [],
   "source": [
    "import PyPDF2"
   ]
  },
  {
   "cell_type": "code",
   "execution_count": 82,
   "metadata": {
    "collapsed": false
   },
   "outputs": [],
   "source": [
    "with open(path, 'r') as f:\n",
    "    a = f.read()"
   ]
  },
  {
   "cell_type": "code",
   "execution_count": 113,
   "metadata": {
    "collapsed": true
   },
   "outputs": [],
   "source": [
    "path = '/home/anvar/clustering/itas_analysis/pdf/1569319241.pdf'"
   ]
  },
  {
   "cell_type": "code",
   "execution_count": 146,
   "metadata": {
    "collapsed": false
   },
   "outputs": [],
   "source": [
    "\n",
    "#pdf = PyPDF2.PdfFileReader(p)"
   ]
  },
  {
   "cell_type": "code",
   "execution_count": 152,
   "metadata": {
    "collapsed": false
   },
   "outputs": [
    {
     "ename": "UnicodeDecodeError",
     "evalue": "'unicodeescape' codec can't decode bytes in position 7548-7549: truncated \\uXXXX escape",
     "output_type": "error",
     "traceback": [
      "\u001b[0;31m---------------------------------------------------------------------------\u001b[0m",
      "\u001b[0;31mUnicodeDecodeError\u001b[0m                        Traceback (most recent call last)",
      "\u001b[0;32m<ipython-input-152-36a582f6b85f>\u001b[0m in \u001b[0;36m<module>\u001b[0;34m()\u001b[0m\n\u001b[1;32m      1\u001b[0m \u001b[0;32mwith\u001b[0m \u001b[0mopen\u001b[0m\u001b[0;34m(\u001b[0m\u001b[0mpath\u001b[0m\u001b[0;34m,\u001b[0m \u001b[0mencoding\u001b[0m\u001b[0;34m=\u001b[0m\u001b[0;34m'unicode-escape'\u001b[0m\u001b[0;34m)\u001b[0m \u001b[0;32mas\u001b[0m \u001b[0mf\u001b[0m\u001b[0;34m:\u001b[0m\u001b[0;34m\u001b[0m\u001b[0m\n\u001b[0;32m----> 2\u001b[0;31m     \u001b[0mx\u001b[0m \u001b[0;34m=\u001b[0m \u001b[0mf\u001b[0m\u001b[0;34m.\u001b[0m\u001b[0mread\u001b[0m\u001b[0;34m(\u001b[0m\u001b[0;34m)\u001b[0m\u001b[0;34m\u001b[0m\u001b[0m\n\u001b[0m",
      "\u001b[0;32m/home/anvar/anaconda3/lib/python3.5/encodings/unicode_escape.py\u001b[0m in \u001b[0;36mdecode\u001b[0;34m(self, input, final)\u001b[0m\n\u001b[1;32m     24\u001b[0m \u001b[0;32mclass\u001b[0m \u001b[0mIncrementalDecoder\u001b[0m\u001b[0;34m(\u001b[0m\u001b[0mcodecs\u001b[0m\u001b[0;34m.\u001b[0m\u001b[0mIncrementalDecoder\u001b[0m\u001b[0;34m)\u001b[0m\u001b[0;34m:\u001b[0m\u001b[0;34m\u001b[0m\u001b[0m\n\u001b[1;32m     25\u001b[0m     \u001b[0;32mdef\u001b[0m \u001b[0mdecode\u001b[0m\u001b[0;34m(\u001b[0m\u001b[0mself\u001b[0m\u001b[0;34m,\u001b[0m \u001b[0minput\u001b[0m\u001b[0;34m,\u001b[0m \u001b[0mfinal\u001b[0m\u001b[0;34m=\u001b[0m\u001b[0;32mFalse\u001b[0m\u001b[0;34m)\u001b[0m\u001b[0;34m:\u001b[0m\u001b[0;34m\u001b[0m\u001b[0m\n\u001b[0;32m---> 26\u001b[0;31m         \u001b[0;32mreturn\u001b[0m \u001b[0mcodecs\u001b[0m\u001b[0;34m.\u001b[0m\u001b[0municode_escape_decode\u001b[0m\u001b[0;34m(\u001b[0m\u001b[0minput\u001b[0m\u001b[0;34m,\u001b[0m \u001b[0mself\u001b[0m\u001b[0;34m.\u001b[0m\u001b[0merrors\u001b[0m\u001b[0;34m)\u001b[0m\u001b[0;34m[\u001b[0m\u001b[0;36m0\u001b[0m\u001b[0;34m]\u001b[0m\u001b[0;34m\u001b[0m\u001b[0m\n\u001b[0m\u001b[1;32m     27\u001b[0m \u001b[0;34m\u001b[0m\u001b[0m\n\u001b[1;32m     28\u001b[0m \u001b[0;32mclass\u001b[0m \u001b[0mStreamWriter\u001b[0m\u001b[0;34m(\u001b[0m\u001b[0mCodec\u001b[0m\u001b[0;34m,\u001b[0m\u001b[0mcodecs\u001b[0m\u001b[0;34m.\u001b[0m\u001b[0mStreamWriter\u001b[0m\u001b[0;34m)\u001b[0m\u001b[0;34m:\u001b[0m\u001b[0;34m\u001b[0m\u001b[0m\n",
      "\u001b[0;31mUnicodeDecodeError\u001b[0m: 'unicodeescape' codec can't decode bytes in position 7548-7549: truncated \\uXXXX escape"
     ]
    }
   ],
   "source": [
    "with open(path, encoding='unicode-escape') as f:\n",
    "    x = f.read()"
   ]
  },
  {
   "cell_type": "code",
   "execution_count": 128,
   "metadata": {
    "collapsed": true
   },
   "outputs": [],
   "source": [
    "p = pdf.getPage(3)"
   ]
  },
  {
   "cell_type": "code",
   "execution_count": 138,
   "metadata": {
    "collapsed": false
   },
   "outputs": [],
   "source": [
    "ttt = p.extractText()"
   ]
  },
  {
   "cell_type": "code",
   "execution_count": null,
   "metadata": {
    "collapsed": true
   },
   "outputs": [],
   "source": [
    "ttt"
   ]
  },
  {
   "cell_type": "code",
   "execution_count": null,
   "metadata": {
    "collapsed": true
   },
   "outputs": [],
   "source": [
    "bytes(ttt, )"
   ]
  },
  {
   "cell_type": "code",
   "execution_count": 142,
   "metadata": {
    "collapsed": false
   },
   "outputs": [
    {
     "ename": "UnicodeDecodeError",
     "evalue": "'ascii' codec can't decode byte 0xc3 in position 0: ordinal not in range(128)",
     "output_type": "error",
     "traceback": [
      "\u001b[0;31m---------------------------------------------------------------------------\u001b[0m",
      "\u001b[0;31mUnicodeDecodeError\u001b[0m                        Traceback (most recent call last)",
      "\u001b[0;32m<ipython-input-142-a7950873012d>\u001b[0m in \u001b[0;36m<module>\u001b[0;34m()\u001b[0m\n\u001b[0;32m----> 1\u001b[0;31m \u001b[0mbytes\u001b[0m\u001b[0;34m(\u001b[0m\u001b[0mttt\u001b[0m\u001b[0;34m,\u001b[0m \u001b[0;34m'utf-8'\u001b[0m\u001b[0;34m)\u001b[0m\u001b[0;34m.\u001b[0m\u001b[0mdecode\u001b[0m\u001b[0;34m(\u001b[0m\u001b[0;34m'ascii'\u001b[0m\u001b[0;34m)\u001b[0m\u001b[0;34m\u001b[0m\u001b[0m\n\u001b[0m",
      "\u001b[0;31mUnicodeDecodeError\u001b[0m: 'ascii' codec can't decode byte 0xc3 in position 0: ordinal not in range(128)"
     ]
    }
   ],
   "source": [
    "bytes(ttt, 'utf-8').decode('ascii')"
   ]
  },
  {
   "cell_type": "code",
   "execution_count": null,
   "metadata": {
    "collapsed": true
   },
   "outputs": [],
   "source": []
  },
  {
   "cell_type": "code",
   "execution_count": null,
   "metadata": {
    "collapsed": true
   },
   "outputs": [],
   "source": []
  },
  {
   "cell_type": "code",
   "execution_count": null,
   "metadata": {
    "collapsed": true
   },
   "outputs": [],
   "source": []
  },
  {
   "cell_type": "code",
   "execution_count": 135,
   "metadata": {
    "collapsed": false,
    "scrolled": false
   },
   "outputs": [
    {
     "ename": "TypeError",
     "evalue": "'NameObject' object cannot be interpreted as an integer",
     "output_type": "error",
     "traceback": [
      "\u001b[0;31m---------------------------------------------------------------------------\u001b[0m",
      "\u001b[0;31mTypeError\u001b[0m                                 Traceback (most recent call last)",
      "\u001b[0;32m<ipython-input-135-6d7688e22525>\u001b[0m in \u001b[0;36m<module>\u001b[0;34m()\u001b[0m\n\u001b[0;32m----> 1\u001b[0;31m \u001b[0mStringIO\u001b[0m\u001b[0;34m(\u001b[0m\u001b[0mbytes\u001b[0m\u001b[0;34m(\u001b[0m\u001b[0mpdf\u001b[0m\u001b[0;34m.\u001b[0m\u001b[0mgetPage\u001b[0m\u001b[0;34m(\u001b[0m\u001b[0;36m5\u001b[0m\u001b[0;34m)\u001b[0m\u001b[0;34m)\u001b[0m\u001b[0;34m.\u001b[0m\u001b[0mdecode\u001b[0m\u001b[0;34m(\u001b[0m\u001b[0;34m'ascii'\u001b[0m\u001b[0;34m,\u001b[0m \u001b[0;34m'ignore'\u001b[0m\u001b[0;34m)\u001b[0m\u001b[0;34m)\u001b[0m\u001b[0;34m\u001b[0m\u001b[0m\n\u001b[0m",
      "\u001b[0;31mTypeError\u001b[0m: 'NameObject' object cannot be interpreted as an integer"
     ]
    }
   ],
   "source": [
    "StringIO(bytes(pdf.getPage(5)).decode('ascii', 'ignore'))"
   ]
  },
  {
   "cell_type": "code",
   "execution_count": 114,
   "metadata": {
    "collapsed": false
   },
   "outputs": [
    {
     "ename": "NameError",
     "evalue": "name 'getPDFContent' is not defined",
     "output_type": "error",
     "traceback": [
      "\u001b[0;31m---------------------------------------------------------------------------\u001b[0m",
      "\u001b[0;31mNameError\u001b[0m                                 Traceback (most recent call last)",
      "\u001b[0;32m<ipython-input-114-74c931aeb51e>\u001b[0m in \u001b[0;36m<module>\u001b[0;34m()\u001b[0m\n\u001b[1;32m      2\u001b[0m \u001b[0;34m\u001b[0m\u001b[0m\n\u001b[1;32m      3\u001b[0m \u001b[0;31m# Read each line of the PDF\u001b[0m\u001b[0;34m\u001b[0m\u001b[0;34m\u001b[0m\u001b[0m\n\u001b[0;32m----> 4\u001b[0;31m \u001b[0mpdfContent\u001b[0m \u001b[0;34m=\u001b[0m \u001b[0mStringIO\u001b[0m\u001b[0;34m(\u001b[0m\u001b[0mgetPDFContent\u001b[0m\u001b[0;34m(\u001b[0m\u001b[0mpath\u001b[0m\u001b[0;34m)\u001b[0m\u001b[0;34m.\u001b[0m\u001b[0mencode\u001b[0m\u001b[0;34m(\u001b[0m\u001b[0;34m\"ascii\"\u001b[0m\u001b[0;34m,\u001b[0m \u001b[0;34m\"ignore\"\u001b[0m\u001b[0;34m)\u001b[0m\u001b[0;34m)\u001b[0m\u001b[0;34m\u001b[0m\u001b[0m\n\u001b[0m\u001b[1;32m      5\u001b[0m \u001b[0;31m# for line in pdfContent:\u001b[0m\u001b[0;34m\u001b[0m\u001b[0;34m\u001b[0m\u001b[0m\n\u001b[1;32m      6\u001b[0m \u001b[0;31m#     print\u001b[0m\u001b[0;34m\u001b[0m\u001b[0;34m\u001b[0m\u001b[0m\n",
      "\u001b[0;31mNameError\u001b[0m: name 'getPDFContent' is not defined"
     ]
    }
   ],
   "source": [
    "from io import StringIO\n",
    "\n",
    "# Read each line of the PDF\n",
    "pdfContent = StringIO(getPDFContent(path).encode(\"ascii\", \"ignore\"))\n",
    "# for line in pdfContent:\n",
    "#     print"
   ]
  },
  {
   "cell_type": "code",
   "execution_count": null,
   "metadata": {
    "collapsed": true
   },
   "outputs": [],
   "source": []
  }
 ],
 "metadata": {
  "kernelspec": {
   "display_name": "Python [conda env:anaconda3]",
   "language": "python",
   "name": "conda-env-anaconda3-py"
  },
  "language_info": {
   "codemirror_mode": {
    "name": "ipython",
    "version": 3
   },
   "file_extension": ".py",
   "mimetype": "text/x-python",
   "name": "python",
   "nbconvert_exporter": "python",
   "pygments_lexer": "ipython3",
   "version": "3.5.2"
  }
 },
 "nbformat": 4,
 "nbformat_minor": 2
}
