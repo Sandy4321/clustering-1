{
 "cells": [
  {
   "cell_type": "code",
   "execution_count": 1,
   "metadata": {
    "collapsed": true
   },
   "outputs": [],
   "source": [
    "import pandas as pd\n",
    "import numpy as np\n",
    "import matplotlib.pyplot as plt\n",
    "%matplotlib inline\n",
    "\n",
    "import networkx as nx"
   ]
  },
  {
   "cell_type": "raw",
   "metadata": {},
   "source": [
    "В данных есть дубликаты по названию статьи и author_id_new (2 штуки) остальные столбцы - разные\n",
    "\n",
    "Сдвиговое и полусдвиговое преобразование Хаффа: генерация быстрых вычислительных схем - Дмитрий Николае и Дмитрий Николаев\n",
    "\n",
    "\n",
    "UAV navigation on the basis of video sequences registered by onboard camera - \n",
    "Ivan Koptelov\tИван\tКоноваленко\tКоноваленко Иван\t\n",
    "Ivan Konovalenko\tИван\tКоноваленко\tКоноваленко Иван \n",
    "при ручной обработке был потерян Иван Коптелов\n",
    "\n",
    "Оба пункта исправлены в эксель файле.\n",
    "\n",
    "--> itas_2010-2017_v7.xls|"
   ]
  },
  {
   "cell_type": "code",
   "execution_count": 2,
   "metadata": {
    "collapsed": true
   },
   "outputs": [],
   "source": [
    "#itas_data = pd.read_excel('itas_2010-2017_v6.xls')"
   ]
  },
  {
   "cell_type": "code",
   "execution_count": 64,
   "metadata": {
    "collapsed": true
   },
   "outputs": [],
   "source": [
    "itas_data = pd.read_excel('itas_2010-2017_v7.xls')\n",
    "\n",
    "# itas_data.index = np.arange(2506)\n",
    "# itas_data.to_excel('itas_2010-2017_v7.xls')"
   ]
  },
  {
   "cell_type": "code",
   "execution_count": 58,
   "metadata": {
    "scrolled": true
   },
   "outputs": [],
   "source": [
    "#itas_data.drop_duplicates(subset=['title', 'author_id_new'])"
   ]
  },
  {
   "cell_type": "code",
   "execution_count": 59,
   "metadata": {},
   "outputs": [],
   "source": [
    "#index = itas_data.duplicated(subset=['title', 'author_id_new'])"
   ]
  },
  {
   "cell_type": "code",
   "execution_count": 60,
   "metadata": {},
   "outputs": [],
   "source": [
    "#itas_data[index].title.values"
   ]
  },
  {
   "cell_type": "code",
   "execution_count": 61,
   "metadata": {},
   "outputs": [],
   "source": [
    "#itas_data[itas_data.title == 'UAV navigation on the basis of video sequences registered by onboard camera ']"
   ]
  },
  {
   "cell_type": "code",
   "execution_count": 118,
   "metadata": {},
   "outputs": [
    {
     "data": {
      "text/html": [
       "<div>\n",
       "<style>\n",
       "    .dataframe thead tr:only-child th {\n",
       "        text-align: right;\n",
       "    }\n",
       "\n",
       "    .dataframe thead th {\n",
       "        text-align: left;\n",
       "    }\n",
       "\n",
       "    .dataframe tbody tr th {\n",
       "        vertical-align: top;\n",
       "    }\n",
       "</style>\n",
       "<table border=\"1\" class=\"dataframe\">\n",
       "  <thead>\n",
       "    <tr style=\"text-align: right;\">\n",
       "      <th></th>\n",
       "      <th>title</th>\n",
       "      <th>year</th>\n",
       "      <th>author</th>\n",
       "      <th>Name</th>\n",
       "      <th>Surname</th>\n",
       "      <th>author_id_new</th>\n",
       "      <th>Gender</th>\n",
       "    </tr>\n",
       "  </thead>\n",
       "  <tbody>\n",
       "    <tr>\n",
       "      <th>0</th>\n",
       "      <td>Covalent protein-RNA complexes extraction</td>\n",
       "      <td>2010</td>\n",
       "      <td>Jennifer Gerton</td>\n",
       "      <td>Jennifer</td>\n",
       "      <td>Gerton</td>\n",
       "      <td>Gerton Jennifer</td>\n",
       "      <td>Female</td>\n",
       "    </tr>\n",
       "    <tr>\n",
       "      <th>1</th>\n",
       "      <td>ONION: an XML format to exchange gene-related ...</td>\n",
       "      <td>2010</td>\n",
       "      <td>Dmitris Lvovs</td>\n",
       "      <td>Dmitris</td>\n",
       "      <td>Lvovs</td>\n",
       "      <td>Lvovs Dmitris</td>\n",
       "      <td>Male</td>\n",
       "    </tr>\n",
       "    <tr>\n",
       "      <th>2</th>\n",
       "      <td>ONION: an XML format to exchange gene-related ...</td>\n",
       "      <td>2010</td>\n",
       "      <td>Michael F. Ochs</td>\n",
       "      <td>Michael</td>\n",
       "      <td>Ochs</td>\n",
       "      <td>Ochs Michael</td>\n",
       "      <td>Male</td>\n",
       "    </tr>\n",
       "    <tr>\n",
       "      <th>3</th>\n",
       "      <td>ONION: an XML format to exchange gene-related ...</td>\n",
       "      <td>2010</td>\n",
       "      <td>Giovanni Parmigiani</td>\n",
       "      <td>Giovanni</td>\n",
       "      <td>Parmigiani</td>\n",
       "      <td>Parmigiani Giovanni</td>\n",
       "      <td>Male</td>\n",
       "    </tr>\n",
       "    <tr>\n",
       "      <th>4</th>\n",
       "      <td>ONION: an XML format to exchange gene-related ...</td>\n",
       "      <td>2010</td>\n",
       "      <td>William Speier</td>\n",
       "      <td>William</td>\n",
       "      <td>Speier</td>\n",
       "      <td>Speier William</td>\n",
       "      <td>Male</td>\n",
       "    </tr>\n",
       "  </tbody>\n",
       "</table>\n",
       "</div>"
      ],
      "text/plain": [
       "                                               title  year  \\\n",
       "0         Covalent protein-RNA complexes extraction   2010   \n",
       "1  ONION: an XML format to exchange gene-related ...  2010   \n",
       "2  ONION: an XML format to exchange gene-related ...  2010   \n",
       "3  ONION: an XML format to exchange gene-related ...  2010   \n",
       "4  ONION: an XML format to exchange gene-related ...  2010   \n",
       "\n",
       "                author      Name     Surname        author_id_new  Gender  \n",
       "0      Jennifer Gerton  Jennifer      Gerton      Gerton Jennifer  Female  \n",
       "1        Dmitris Lvovs   Dmitris       Lvovs        Lvovs Dmitris    Male  \n",
       "2      Michael F. Ochs   Michael        Ochs         Ochs Michael    Male  \n",
       "3  Giovanni Parmigiani  Giovanni  Parmigiani  Parmigiani Giovanni    Male  \n",
       "4       William Speier   William      Speier       Speier William    Male  "
      ]
     },
     "execution_count": 118,
     "metadata": {},
     "output_type": "execute_result"
    }
   ],
   "source": [
    "itas_data.head()"
   ]
  },
  {
   "cell_type": "code",
   "execution_count": null,
   "metadata": {
    "collapsed": true
   },
   "outputs": [],
   "source": []
  },
  {
   "cell_type": "code",
   "execution_count": null,
   "metadata": {
    "collapsed": true
   },
   "outputs": [],
   "source": []
  },
  {
   "cell_type": "code",
   "execution_count": 10,
   "metadata": {
    "scrolled": true
   },
   "outputs": [],
   "source": [
    "x = itas_data.groupby(by=['title', 'author_id_new']).count()"
   ]
  },
  {
   "cell_type": "code",
   "execution_count": 45,
   "metadata": {},
   "outputs": [
    {
     "data": {
      "text/plain": [
       "999"
      ]
     },
     "execution_count": 45,
     "metadata": {},
     "output_type": "execute_result"
    }
   ],
   "source": [
    "#itas_data.title.nunique()"
   ]
  },
  {
   "cell_type": "code",
   "execution_count": 46,
   "metadata": {},
   "outputs": [
    {
     "data": {
      "text/plain": [
       "1069"
      ]
     },
     "execution_count": 46,
     "metadata": {},
     "output_type": "execute_result"
    }
   ],
   "source": [
    "#itas_data.author_id_new.nunique()"
   ]
  },
  {
   "cell_type": "code",
   "execution_count": 19,
   "metadata": {},
   "outputs": [],
   "source": [
    "#xx = list(x.index.levels)"
   ]
  },
  {
   "cell_type": "code",
   "execution_count": 22,
   "metadata": {},
   "outputs": [],
   "source": [
    "#xxx = xx[1]"
   ]
  },
  {
   "cell_type": "code",
   "execution_count": 41,
   "metadata": {},
   "outputs": [
    {
     "data": {
      "text/plain": [
       "Index([' \\nИдентификация изображений документов методами,\\nпредназначенными для поиска лиц ',\n",
       "       ' Edge of the Expanding Protein Universe: Exploration of Sequence Space by Very Remote Homologs ',\n",
       "       ' H. megidis - новый модельный организм для электрофизиологического изучения ритмических осцилляций ',\n",
       "       ' Исправление стираний Х-МПП-кодами как нерегулярными МПП-кодами при декодировании по алгоритму с малой сложностью ',\n",
       "       '\"Зеркальные риды\" в данных Hi-C ',\n",
       "       '''Connected Car''-Based Customised On-Demand Tours: the Concept and Underlying Technologies ',\n",
       "       'A Brief Study of Dimensionality Reduction for Mass Spectra Classification ',\n",
       "       'A Generic Web Service for Running Parameter Sweep Applications ',\n",
       "       'A List Decoding Approach to Woven Block Codes',\n",
       "       'A Low-Complexity SCMA Detector for AWGN Channel Based on Solving Overdetermined Systems of Linear Equations. ',\n",
       "       ...\n",
       "       'Экспериментальное исследование распределений длин пакетов ошибок свёрточных кодов ',\n",
       "       'Эксперименты по созданию гибридной системы синтаксического\\nанализа на основе системы ЭТАП-3 ',\n",
       "       'Экспоненты вероятности ошибочного декодирования некоторых кодовых конструкций с простым декодированием ',\n",
       "       'Экспресс-анализ сложных топологий нуклеиновых кислот методом спектроскопии кругового дихроизма ',\n",
       "       'Экспрессия нкРНК HOTAIR и ее роль в модификации хроматина ',\n",
       "       'Электростатическое поле и длина межгенных областей связаны с\\nдиффузией белковых факторов',\n",
       "       'Электрофизиологические ответы клеток крыши среднего мозга и базального оптического ядра на различные зрительные стимулы. ',\n",
       "       'Эффективная реализация некоторых классов булевых функций дизъюнктивными нормальными формами ',\n",
       "       'Эффективность блочной передачи трафика, чувствительного к задержкам, при MCCA-доступе в сетях IEEE 802.11s ',\n",
       "       'Эффективный метод для генерации псевдо-случайных UDG-графов '],\n",
       "      dtype='object', name='title', length=999)"
      ]
     },
     "execution_count": 41,
     "metadata": {},
     "output_type": "execute_result"
    }
   ],
   "source": [
    "# xxxx = xx[0]\n",
    "# np.unique(xxxx).shape # лист статей\n",
    "# xxxx"
   ]
  },
  {
   "cell_type": "code",
   "execution_count": 37,
   "metadata": {},
   "outputs": [
    {
     "data": {
      "text/plain": [
       "(1069,)"
      ]
     },
     "execution_count": 37,
     "metadata": {},
     "output_type": "execute_result"
    }
   ],
   "source": [
    "# np.unique(xxx).shape"
   ]
  },
  {
   "cell_type": "code",
   "execution_count": 39,
   "metadata": {},
   "outputs": [
    {
     "data": {
      "text/plain": [
       "Index(['Abdah Hadeel', 'Al-Ka'bi Amin', 'Al-Mardi Mohammed',\n",
       "       'Al-odhari Abdulwahab', 'Amjad R.', 'Bakin E.', 'Baraniuc Olesya',\n",
       "       'Bartoli D.', 'Bartz H.', 'Belmouloud Nassim',\n",
       "       ...\n",
       "       'Якимов Е.', 'Якимов М.Ю.', 'Яковлева Е.Ю.', 'Ялалетдинов А.Д.',\n",
       "       'Ялда Х.Г.', 'Яловая Е.А.', 'Янович Юрий', 'Яровенко Светлана',\n",
       "       'Яроцкий Д.', 'Яруллин Р.С.'],\n",
       "      dtype='object', name='author_id_new', length=1069)"
      ]
     },
     "execution_count": 39,
     "metadata": {},
     "output_type": "execute_result"
    }
   ],
   "source": [
    "# xxx # лист авторов"
   ]
  },
  {
   "cell_type": "code",
   "execution_count": 28,
   "metadata": {},
   "outputs": [],
   "source": [
    "# y = list(x.index.labels)"
   ]
  },
  {
   "cell_type": "code",
   "execution_count": 35,
   "metadata": {},
   "outputs": [
    {
     "data": {
      "text/plain": [
       "(999,)"
      ]
     },
     "execution_count": 35,
     "metadata": {},
     "output_type": "execute_result"
    }
   ],
   "source": [
    "# np.unique(y[0]).shape # индексы статей"
   ]
  },
  {
   "cell_type": "code",
   "execution_count": 36,
   "metadata": {},
   "outputs": [
    {
     "data": {
      "text/plain": [
       "(1069,)"
      ]
     },
     "execution_count": 36,
     "metadata": {},
     "output_type": "execute_result"
    }
   ],
   "source": [
    "# np.unique(y[1]).shape # индексы авторов"
   ]
  },
  {
   "cell_type": "code",
   "execution_count": 68,
   "metadata": {},
   "outputs": [],
   "source": [
    "title_index = np.array(list(y[0]))"
   ]
  },
  {
   "cell_type": "code",
   "execution_count": 69,
   "metadata": {},
   "outputs": [],
   "source": [
    "author_index = np.array(list(y[1]))"
   ]
  },
  {
   "cell_type": "code",
   "execution_count": 70,
   "metadata": {
    "collapsed": true
   },
   "outputs": [],
   "source": [
    "order = np.argsort(author_index)"
   ]
  },
  {
   "cell_type": "code",
   "execution_count": 73,
   "metadata": {},
   "outputs": [
    {
     "data": {
      "text/plain": [
       "array([1062, 1062, 1063, 1064, 1065, 1065, 1065, 1065, 1065, 1065, 1065,\n",
       "       1065, 1065, 1065, 1066, 1066, 1066, 1067, 1068, 1068], dtype=int16)"
      ]
     },
     "execution_count": 73,
     "metadata": {},
     "output_type": "execute_result"
    }
   ],
   "source": [
    "author_index[order[-20:]]"
   ]
  },
  {
   "cell_type": "code",
   "execution_count": 74,
   "metadata": {},
   "outputs": [
    {
     "data": {
      "text/plain": [
       "array([440, 763, 728, 884, 243, 775, 683, 857, 572, 571, 510, 920, 377,\n",
       "       627, 232, 513, 587, 659, 635, 253], dtype=int16)"
      ]
     },
     "execution_count": 74,
     "metadata": {},
     "output_type": "execute_result"
    }
   ],
   "source": [
    "title_index[order[-20:]]"
   ]
  },
  {
   "cell_type": "code",
   "execution_count": null,
   "metadata": {
    "collapsed": true
   },
   "outputs": [],
   "source": []
  },
  {
   "cell_type": "code",
   "execution_count": null,
   "metadata": {
    "collapsed": true
   },
   "outputs": [],
   "source": []
  },
  {
   "cell_type": "code",
   "execution_count": null,
   "metadata": {
    "collapsed": true
   },
   "outputs": [],
   "source": [
    "a1 : [t1, t2, t3]\n",
    "a2 : [t1, t5, t6]\n",
    "a3 : [t2, t5]\n",
    "a4 :\n",
    "    \n",
    "\n",
    "t1 : []"
   ]
  },
  {
   "cell_type": "code",
   "execution_count": 78,
   "metadata": {},
   "outputs": [
    {
     "data": {
      "text/plain": [
       "FrozenNDArray([0, 0, 0, 1, 1, 1, 2, 2, 2, 3, 4, 4, 4, 5, 5, 5, 6, 6, 7, 7, 8, 8, 9, 9, 10, 10, 11, 11, 12, 12, 13, 13, 13, 14, 14, 14, 14, 14, 14, 15, 15, 16, 16, 16, 17, 17, 18, 18, 18, 18, 18, 18, 19, 19, 19, 20, 20, 20, 21, 21, 21, 22, 23, 23, 24, 25, 25, 25, 26, 26, 26, 26, 26, 26, 26, 27, 27, 28, 29, 29, 29, 30, 30, 30, 30, 31, 31, 32, 33, 33, 34, 34, 34, 35, 35, 35, 35, 36, 36, 36, ...], dtype='int16')"
      ]
     },
     "execution_count": 78,
     "metadata": {},
     "output_type": "execute_result"
    }
   ],
   "source": [
    "y[0]"
   ]
  },
  {
   "cell_type": "code",
   "execution_count": 86,
   "metadata": {},
   "outputs": [],
   "source": [
    "incidence = pd.crosstab(y[1], y[0])"
   ]
  },
  {
   "cell_type": "code",
   "execution_count": 88,
   "metadata": {},
   "outputs": [],
   "source": [
    "I = incidence.values"
   ]
  },
  {
   "cell_type": "code",
   "execution_count": 90,
   "metadata": {},
   "outputs": [],
   "source": [
    "adj = I.dot(I.T)"
   ]
  },
  {
   "cell_type": "code",
   "execution_count": 91,
   "metadata": {},
   "outputs": [
    {
     "data": {
      "text/plain": [
       "(1069, 1069)"
      ]
     },
     "execution_count": 91,
     "metadata": {},
     "output_type": "execute_result"
    }
   ],
   "source": [
    "adj.shape"
   ]
  },
  {
   "cell_type": "code",
   "execution_count": 94,
   "metadata": {},
   "outputs": [],
   "source": [
    "np.fill_diagonal(adj, 0)"
   ]
  },
  {
   "cell_type": "code",
   "execution_count": 95,
   "metadata": {},
   "outputs": [
    {
     "data": {
      "text/plain": [
       "5632"
      ]
     },
     "execution_count": 95,
     "metadata": {},
     "output_type": "execute_result"
    }
   ],
   "source": [
    "adj.sum()"
   ]
  },
  {
   "cell_type": "code",
   "execution_count": 97,
   "metadata": {},
   "outputs": [
    {
     "data": {
      "text/plain": [
       "array([[0, 0, 0, ..., 0, 0, 0],\n",
       "       [0, 0, 0, ..., 0, 0, 0],\n",
       "       [0, 0, 0, ..., 0, 0, 0],\n",
       "       ..., \n",
       "       [0, 0, 0, ..., 0, 0, 0],\n",
       "       [0, 0, 0, ..., 0, 0, 0],\n",
       "       [0, 0, 0, ..., 0, 0, 0]])"
      ]
     },
     "execution_count": 97,
     "metadata": {},
     "output_type": "execute_result"
    }
   ],
   "source": [
    "adj"
   ]
  },
  {
   "cell_type": "code",
   "execution_count": 98,
   "metadata": {},
   "outputs": [
    {
     "data": {
      "text/plain": [
       "27"
      ]
     },
     "execution_count": 98,
     "metadata": {},
     "output_type": "execute_result"
    }
   ],
   "source": [
    "adj.max()"
   ]
  },
  {
   "cell_type": "code",
   "execution_count": 101,
   "metadata": {},
   "outputs": [
    {
     "data": {
      "text/plain": [
       "(167, 502)"
      ]
     },
     "execution_count": 101,
     "metadata": {},
     "output_type": "execute_result"
    }
   ],
   "source": [
    "np.unravel_index(adj.argmax(), adj.shape)"
   ]
  },
  {
   "cell_type": "code",
   "execution_count": 102,
   "metadata": {},
   "outputs": [
    {
     "data": {
      "text/plain": [
       "'Базыкин Г.А.'"
      ]
     },
     "execution_count": 102,
     "metadata": {},
     "output_type": "execute_result"
    }
   ],
   "source": [
    "xxx[167]"
   ]
  },
  {
   "cell_type": "code",
   "execution_count": 103,
   "metadata": {},
   "outputs": [
    {
     "data": {
      "text/plain": [
       "'Кондрашов А.С.'"
      ]
     },
     "execution_count": 103,
     "metadata": {},
     "output_type": "execute_result"
    }
   ],
   "source": [
    "xxx[502]"
   ]
  },
  {
   "cell_type": "code",
   "execution_count": 107,
   "metadata": {
    "scrolled": true
   },
   "outputs": [
    {
     "data": {
      "text/html": [
       "<div>\n",
       "<style>\n",
       "    .dataframe thead tr:only-child th {\n",
       "        text-align: right;\n",
       "    }\n",
       "\n",
       "    .dataframe thead th {\n",
       "        text-align: left;\n",
       "    }\n",
       "\n",
       "    .dataframe tbody tr th {\n",
       "        vertical-align: top;\n",
       "    }\n",
       "</style>\n",
       "<table border=\"1\" class=\"dataframe\">\n",
       "  <thead>\n",
       "    <tr style=\"text-align: right;\">\n",
       "      <th></th>\n",
       "      <th>title</th>\n",
       "      <th>year</th>\n",
       "      <th>author</th>\n",
       "      <th>Name</th>\n",
       "      <th>Surname</th>\n",
       "      <th>author_id_new</th>\n",
       "      <th>Gender</th>\n",
       "    </tr>\n",
       "  </thead>\n",
       "  <tbody>\n",
       "    <tr>\n",
       "      <th>14</th>\n",
       "      <td>Detecting past positive selection through ongo...</td>\n",
       "      <td>2010</td>\n",
       "      <td>G.A. Bazykin</td>\n",
       "      <td>Г.А.</td>\n",
       "      <td>Базыкин</td>\n",
       "      <td>Базыкин Г.А.</td>\n",
       "      <td>Male</td>\n",
       "    </tr>\n",
       "    <tr>\n",
       "      <th>15</th>\n",
       "      <td>Frequency of reversals in evolution of vertebr...</td>\n",
       "      <td>2010</td>\n",
       "      <td>G. Bazykin</td>\n",
       "      <td>Г.А.</td>\n",
       "      <td>Базыкин</td>\n",
       "      <td>Базыкин Г.А.</td>\n",
       "      <td>Male</td>\n",
       "    </tr>\n",
       "    <tr>\n",
       "      <th>16</th>\n",
       "      <td>Эволюция кодирующей последовательностей ДНК в ...</td>\n",
       "      <td>2010</td>\n",
       "      <td>Базыкин Г.А.</td>\n",
       "      <td>Г.А.</td>\n",
       "      <td>Базыкин</td>\n",
       "      <td>Базыкин Г.А.</td>\n",
       "      <td>Male</td>\n",
       "    </tr>\n",
       "    <tr>\n",
       "      <th>17</th>\n",
       "      <td>Parallel evolutionary trajectories at sites of...</td>\n",
       "      <td>2010</td>\n",
       "      <td>Georgii A. Bazykin</td>\n",
       "      <td>Г.А.</td>\n",
       "      <td>Базыкин</td>\n",
       "      <td>Базыкин Г.А.</td>\n",
       "      <td>Male</td>\n",
       "    </tr>\n",
       "    <tr>\n",
       "      <th>18</th>\n",
       "      <td>Edge of the Expanding Protein Universe: Explo...</td>\n",
       "      <td>2010</td>\n",
       "      <td>Georgii A. Bazykin</td>\n",
       "      <td>Г.А.</td>\n",
       "      <td>Базыкин</td>\n",
       "      <td>Базыкин Г.А.</td>\n",
       "      <td>Male</td>\n",
       "    </tr>\n",
       "    <tr>\n",
       "      <th>211</th>\n",
       "      <td>Анализ двунуклеотидных замен в популяции D.mel...</td>\n",
       "      <td>2011</td>\n",
       "      <td>Базыкин Г.А.</td>\n",
       "      <td>Г.А.</td>\n",
       "      <td>Базыкин</td>\n",
       "      <td>Базыкин Г.А.</td>\n",
       "      <td>Male</td>\n",
       "    </tr>\n",
       "    <tr>\n",
       "      <th>212</th>\n",
       "      <td>Сохранение функции без сохранения сходства пос...</td>\n",
       "      <td>2011</td>\n",
       "      <td>Базыкин Г.А.</td>\n",
       "      <td>Г.А.</td>\n",
       "      <td>Базыкин</td>\n",
       "      <td>Базыкин Г.А.</td>\n",
       "      <td>Male</td>\n",
       "    </tr>\n",
       "    <tr>\n",
       "      <th>213</th>\n",
       "      <td>Разность скоростей образования двойных замен в...</td>\n",
       "      <td>2011</td>\n",
       "      <td>Базыкин Г.А.</td>\n",
       "      <td>Г.А.</td>\n",
       "      <td>Базыкин</td>\n",
       "      <td>Базыкин Г.А.</td>\n",
       "      <td>Male</td>\n",
       "    </tr>\n",
       "    <tr>\n",
       "      <th>214</th>\n",
       "      <td>Не протяженная гетерогенность мутационного про...</td>\n",
       "      <td>2011</td>\n",
       "      <td>Базыкин Г.А.</td>\n",
       "      <td>Г.А.</td>\n",
       "      <td>Базыкин</td>\n",
       "      <td>Базыкин Г.А.</td>\n",
       "      <td>Male</td>\n",
       "    </tr>\n",
       "    <tr>\n",
       "      <th>215</th>\n",
       "      <td>Отбор на длину интронов в генах Drosophila mel...</td>\n",
       "      <td>2011</td>\n",
       "      <td>Базыкин Г.А.</td>\n",
       "      <td>Г.А.</td>\n",
       "      <td>Базыкин</td>\n",
       "      <td>Базыкин Г.А.</td>\n",
       "      <td>Male</td>\n",
       "    </tr>\n",
       "    <tr>\n",
       "      <th>486</th>\n",
       "      <td>Роль неконсенсусных нуклеотидов в эволюции сай...</td>\n",
       "      <td>2012</td>\n",
       "      <td>Базыкин Г.А.</td>\n",
       "      <td>Г.А.</td>\n",
       "      <td>Базыкин</td>\n",
       "      <td>Базыкин Г.А.</td>\n",
       "      <td>Male</td>\n",
       "    </tr>\n",
       "    <tr>\n",
       "      <th>487</th>\n",
       "      <td>Распространенность эпистатических взаимодейств...</td>\n",
       "      <td>2012</td>\n",
       "      <td>Базыкин Г.А.</td>\n",
       "      <td>Г.А.</td>\n",
       "      <td>Базыкин</td>\n",
       "      <td>Базыкин Г.А.</td>\n",
       "      <td>Male</td>\n",
       "    </tr>\n",
       "    <tr>\n",
       "      <th>488</th>\n",
       "      <td>Генетическая изменчивость в геномах Gasteroste...</td>\n",
       "      <td>2012</td>\n",
       "      <td>Базыкин Г.А.</td>\n",
       "      <td>Г.А.</td>\n",
       "      <td>Базыкин</td>\n",
       "      <td>Базыкин Г.А.</td>\n",
       "      <td>Male</td>\n",
       "    </tr>\n",
       "    <tr>\n",
       "      <th>489</th>\n",
       "      <td>Отрицательный отбор на ортологичные участки ге...</td>\n",
       "      <td>2012</td>\n",
       "      <td>Базыкин Г.А.</td>\n",
       "      <td>Г.А.</td>\n",
       "      <td>Базыкин</td>\n",
       "      <td>Базыкин Г.А.</td>\n",
       "      <td>Male</td>\n",
       "    </tr>\n",
       "    <tr>\n",
       "      <th>490</th>\n",
       "      <td>Отбор против аллелей с полной потерей функции ...</td>\n",
       "      <td>2012</td>\n",
       "      <td>Базыкин Г.А.</td>\n",
       "      <td>Г.А.</td>\n",
       "      <td>Базыкин</td>\n",
       "      <td>Базыкин Г.А.</td>\n",
       "      <td>Male</td>\n",
       "    </tr>\n",
       "    <tr>\n",
       "      <th>751</th>\n",
       "      <td>Анализ распространённости эпистатических взаим...</td>\n",
       "      <td>2013</td>\n",
       "      <td>Базыкин Г.А.</td>\n",
       "      <td>Г.А.</td>\n",
       "      <td>Базыкин</td>\n",
       "      <td>Базыкин Г.А.</td>\n",
       "      <td>Male</td>\n",
       "    </tr>\n",
       "    <tr>\n",
       "      <th>752</th>\n",
       "      <td>Геномные паттерны дивергенции в ходе адаптации...</td>\n",
       "      <td>2013</td>\n",
       "      <td>Базыкин Г.А.</td>\n",
       "      <td>Г.А.</td>\n",
       "      <td>Базыкин</td>\n",
       "      <td>Базыкин Г.А.</td>\n",
       "      <td>Male</td>\n",
       "    </tr>\n",
       "    <tr>\n",
       "      <th>753</th>\n",
       "      <td>Рекомбинация сверхполиморфного гриба Schizophy...</td>\n",
       "      <td>2013</td>\n",
       "      <td>Базыкин Г.А.</td>\n",
       "      <td>Г.А.</td>\n",
       "      <td>Базыкин</td>\n",
       "      <td>Базыкин Г.А.</td>\n",
       "      <td>Male</td>\n",
       "    </tr>\n",
       "    <tr>\n",
       "      <th>754</th>\n",
       "      <td>Популяционный анализ высокополиморфного вида S...</td>\n",
       "      <td>2013</td>\n",
       "      <td>Базыкин Г.А.</td>\n",
       "      <td>Г.А.</td>\n",
       "      <td>Базыкин</td>\n",
       "      <td>Базыкин Г.А.</td>\n",
       "      <td>Male</td>\n",
       "    </tr>\n",
       "    <tr>\n",
       "      <th>755</th>\n",
       "      <td>Внутривидовые реассортации вызывают адаптивные...</td>\n",
       "      <td>2013</td>\n",
       "      <td>Базыкин Г.А.</td>\n",
       "      <td>Г.А.</td>\n",
       "      <td>Базыкин</td>\n",
       "      <td>Базыкин Г.А.</td>\n",
       "      <td>Male</td>\n",
       "    </tr>\n",
       "    <tr>\n",
       "      <th>978</th>\n",
       "      <td>Epistasis in ultraconserved non-coding elements</td>\n",
       "      <td>2014</td>\n",
       "      <td>Базыкин Г.А.</td>\n",
       "      <td>Г.А.</td>\n",
       "      <td>Базыкин</td>\n",
       "      <td>Базыкин Г.А.</td>\n",
       "      <td>Male</td>\n",
       "    </tr>\n",
       "    <tr>\n",
       "      <th>979</th>\n",
       "      <td>Within-genome mutation rate variation is not c...</td>\n",
       "      <td>2014</td>\n",
       "      <td>Базыкин Г.А.</td>\n",
       "      <td>Г.А.</td>\n",
       "      <td>Базыкин</td>\n",
       "      <td>Базыкин Г.А.</td>\n",
       "      <td>Male</td>\n",
       "    </tr>\n",
       "    <tr>\n",
       "      <th>980</th>\n",
       "      <td>Inference of prevalence of epistasis from huge...</td>\n",
       "      <td>2014</td>\n",
       "      <td>Базыкин Г.А.</td>\n",
       "      <td>Г.А.</td>\n",
       "      <td>Базыкин</td>\n",
       "      <td>Базыкин Г.А.</td>\n",
       "      <td>Male</td>\n",
       "    </tr>\n",
       "    <tr>\n",
       "      <th>1214</th>\n",
       "      <td>Изучение накопления замен в нонсенс-аллелях</td>\n",
       "      <td>2015</td>\n",
       "      <td>Базыкин Г.А.</td>\n",
       "      <td>Г.А.</td>\n",
       "      <td>Базыкин</td>\n",
       "      <td>Базыкин Г.А.</td>\n",
       "      <td>Male</td>\n",
       "    </tr>\n",
       "    <tr>\n",
       "      <th>1215</th>\n",
       "      <td>Влияние корреляций между позициями на эволюцию...</td>\n",
       "      <td>2015</td>\n",
       "      <td>Базыкин Г.А.</td>\n",
       "      <td>Г.А.</td>\n",
       "      <td>Базыкин</td>\n",
       "      <td>Базыкин Г.А.</td>\n",
       "      <td>Male</td>\n",
       "    </tr>\n",
       "    <tr>\n",
       "      <th>1216</th>\n",
       "      <td>Ускорение появления несинонимичных замен вслед...</td>\n",
       "      <td>2015</td>\n",
       "      <td>Базыкин Г.А.</td>\n",
       "      <td>Г.А.</td>\n",
       "      <td>Базыкин</td>\n",
       "      <td>Базыкин Г.А.</td>\n",
       "      <td>Male</td>\n",
       "    </tr>\n",
       "    <tr>\n",
       "      <th>1217</th>\n",
       "      <td>Анализ коррелированной эволюции РНК структур п...</td>\n",
       "      <td>2015</td>\n",
       "      <td>Базыкин Г.А.</td>\n",
       "      <td>Г.А.</td>\n",
       "      <td>Базыкин</td>\n",
       "      <td>Базыкин Г.А.</td>\n",
       "      <td>Male</td>\n",
       "    </tr>\n",
       "    <tr>\n",
       "      <th>1218</th>\n",
       "      <td>Анализ роли эпистатических взаимодействий в эв...</td>\n",
       "      <td>2015</td>\n",
       "      <td>Базыкин Г.А.</td>\n",
       "      <td>Г.А.</td>\n",
       "      <td>Базыкин</td>\n",
       "      <td>Базыкин Г.А.</td>\n",
       "      <td>Male</td>\n",
       "    </tr>\n",
       "    <tr>\n",
       "      <th>1219</th>\n",
       "      <td>Зависимость силы отрицательного естественного ...</td>\n",
       "      <td>2015</td>\n",
       "      <td>Базыкин Г.А.</td>\n",
       "      <td>Г.А.</td>\n",
       "      <td>Базыкин</td>\n",
       "      <td>Базыкин Г.А.</td>\n",
       "      <td>Male</td>\n",
       "    </tr>\n",
       "    <tr>\n",
       "      <th>1220</th>\n",
       "      <td>Эволюция локальной скорости мутирования и её д...</td>\n",
       "      <td>2015</td>\n",
       "      <td>Базыкин Г.А.</td>\n",
       "      <td>Г.А.</td>\n",
       "      <td>Базыкин</td>\n",
       "      <td>Базыкин Г.А.</td>\n",
       "      <td>Male</td>\n",
       "    </tr>\n",
       "    <tr>\n",
       "      <th>1221</th>\n",
       "      <td>Смена однопозиционной пригодности ландшафтов и...</td>\n",
       "      <td>2015</td>\n",
       "      <td>Базыкин Г.А.</td>\n",
       "      <td>Г.А.</td>\n",
       "      <td>Базыкин</td>\n",
       "      <td>Базыкин Г.А.</td>\n",
       "      <td>Male</td>\n",
       "    </tr>\n",
       "    <tr>\n",
       "      <th>1222</th>\n",
       "      <td>Апобек делает мутации на отстающей цепи ДНК</td>\n",
       "      <td>2015</td>\n",
       "      <td>Базыкин Г.А.</td>\n",
       "      <td>Г.А.</td>\n",
       "      <td>Базыкин</td>\n",
       "      <td>Базыкин Г.А.</td>\n",
       "      <td>Male</td>\n",
       "    </tr>\n",
       "    <tr>\n",
       "      <th>1223</th>\n",
       "      <td>Поиск de novo мутаций в высокополиморфных видах</td>\n",
       "      <td>2015</td>\n",
       "      <td>Базыкин Г.А.</td>\n",
       "      <td>Г.А.</td>\n",
       "      <td>Базыкин</td>\n",
       "      <td>Базыкин Г.А.</td>\n",
       "      <td>Male</td>\n",
       "    </tr>\n",
       "    <tr>\n",
       "      <th>1683</th>\n",
       "      <td>Экспериментальная эволюция базидиомицета Schiz...</td>\n",
       "      <td>2016</td>\n",
       "      <td>Базыкин Г.А.</td>\n",
       "      <td>Г.А.</td>\n",
       "      <td>Базыкин</td>\n",
       "      <td>Базыкин Г.А.</td>\n",
       "      <td>Male</td>\n",
       "    </tr>\n",
       "    <tr>\n",
       "      <th>1684</th>\n",
       "      <td>Экспериментальная эволюция аскомицетного гриба...</td>\n",
       "      <td>2016</td>\n",
       "      <td>Базыкин Г.А.</td>\n",
       "      <td>Г.А.</td>\n",
       "      <td>Базыкин</td>\n",
       "      <td>Базыкин Г.А.</td>\n",
       "      <td>Male</td>\n",
       "    </tr>\n",
       "    <tr>\n",
       "      <th>1685</th>\n",
       "      <td>Prediction of amino acid fitness from phylogen...</td>\n",
       "      <td>2016</td>\n",
       "      <td>Georgii Bazykin</td>\n",
       "      <td>Г.А.</td>\n",
       "      <td>Базыкин</td>\n",
       "      <td>Базыкин Г.А.</td>\n",
       "      <td>Male</td>\n",
       "    </tr>\n",
       "    <tr>\n",
       "      <th>1686</th>\n",
       "      <td>Whole-Genome Analysis of Polymorphism in a Bde...</td>\n",
       "      <td>2016</td>\n",
       "      <td>Georgii Bazykin</td>\n",
       "      <td>Г.А.</td>\n",
       "      <td>Базыкин</td>\n",
       "      <td>Базыкин Г.А.</td>\n",
       "      <td>Male</td>\n",
       "    </tr>\n",
       "    <tr>\n",
       "      <th>1687</th>\n",
       "      <td>Динамика однопозиционного адаптивного ландшафта</td>\n",
       "      <td>2016</td>\n",
       "      <td>Базыкин Г.А.</td>\n",
       "      <td>Г.А.</td>\n",
       "      <td>Базыкин</td>\n",
       "      <td>Базыкин Г.А.</td>\n",
       "      <td>Male</td>\n",
       "    </tr>\n",
       "    <tr>\n",
       "      <th>1688</th>\n",
       "      <td>Evidence of Positive Selection in Parallel Evo...</td>\n",
       "      <td>2016</td>\n",
       "      <td>Georgii Bazykin</td>\n",
       "      <td>Г.А.</td>\n",
       "      <td>Базыкин</td>\n",
       "      <td>Базыкин Г.А.</td>\n",
       "      <td>Male</td>\n",
       "    </tr>\n",
       "    <tr>\n",
       "      <th>1689</th>\n",
       "      <td>Accumulation of mutations in nonsense alleles ...</td>\n",
       "      <td>2016</td>\n",
       "      <td>Georgii Bazykin</td>\n",
       "      <td>Г.А.</td>\n",
       "      <td>Базыкин</td>\n",
       "      <td>Базыкин Г.А.</td>\n",
       "      <td>Male</td>\n",
       "    </tr>\n",
       "    <tr>\n",
       "      <th>2195</th>\n",
       "      <td>Сauses of single position fitness landscape ch...</td>\n",
       "      <td>2017</td>\n",
       "      <td>Georgii Bazykin</td>\n",
       "      <td>Г.А.</td>\n",
       "      <td>Базыкин</td>\n",
       "      <td>Базыкин Г.А.</td>\n",
       "      <td>Male</td>\n",
       "    </tr>\n",
       "    <tr>\n",
       "      <th>2196</th>\n",
       "      <td>Negative selection in Drosophila melanogaster ...</td>\n",
       "      <td>2017</td>\n",
       "      <td>Georgii Bazykin</td>\n",
       "      <td>Г.А.</td>\n",
       "      <td>Базыкин</td>\n",
       "      <td>Базыкин Г.А.</td>\n",
       "      <td>Male</td>\n",
       "    </tr>\n",
       "    <tr>\n",
       "      <th>2197</th>\n",
       "      <td>Identification of genetic changes acquired by ...</td>\n",
       "      <td>2017</td>\n",
       "      <td>Georgii Bazykin</td>\n",
       "      <td>Г.А.</td>\n",
       "      <td>Базыкин</td>\n",
       "      <td>Базыкин Г.А.</td>\n",
       "      <td>Male</td>\n",
       "    </tr>\n",
       "    <tr>\n",
       "      <th>2198</th>\n",
       "      <td>Nascent DNA sequencing confirms replication in...</td>\n",
       "      <td>2017</td>\n",
       "      <td>Georgii Bazykin</td>\n",
       "      <td>Г.А.</td>\n",
       "      <td>Базыкин</td>\n",
       "      <td>Базыкин Г.А.</td>\n",
       "      <td>Male</td>\n",
       "    </tr>\n",
       "    <tr>\n",
       "      <th>2199</th>\n",
       "      <td>Evidence of Balansing Selection in Parallel Ev...</td>\n",
       "      <td>2017</td>\n",
       "      <td>Georgii Bazykin</td>\n",
       "      <td>Г.А.</td>\n",
       "      <td>Базыкин</td>\n",
       "      <td>Базыкин Г.А.</td>\n",
       "      <td>Male</td>\n",
       "    </tr>\n",
       "    <tr>\n",
       "      <th>2200</th>\n",
       "      <td>The signatures of recombination in the bdelloi...</td>\n",
       "      <td>2017</td>\n",
       "      <td>Georgii Bazykin</td>\n",
       "      <td>Г.А.</td>\n",
       "      <td>Базыкин</td>\n",
       "      <td>Базыкин Г.А.</td>\n",
       "      <td>Male</td>\n",
       "    </tr>\n",
       "    <tr>\n",
       "      <th>2201</th>\n",
       "      <td>Inference of changes of fitness landscape from...</td>\n",
       "      <td>2017</td>\n",
       "      <td>Georgii Bazykin</td>\n",
       "      <td>Г.А.</td>\n",
       "      <td>Базыкин</td>\n",
       "      <td>Базыкин Г.А.</td>\n",
       "      <td>Male</td>\n",
       "    </tr>\n",
       "  </tbody>\n",
       "</table>\n",
       "</div>"
      ],
      "text/plain": [
       "                                                  title  year  \\\n",
       "14    Detecting past positive selection through ongo...  2010   \n",
       "15    Frequency of reversals in evolution of vertebr...  2010   \n",
       "16    Эволюция кодирующей последовательностей ДНК в ...  2010   \n",
       "17    Parallel evolutionary trajectories at sites of...  2010   \n",
       "18     Edge of the Expanding Protein Universe: Explo...  2010   \n",
       "211   Анализ двунуклеотидных замен в популяции D.mel...  2011   \n",
       "212   Сохранение функции без сохранения сходства пос...  2011   \n",
       "213   Разность скоростей образования двойных замен в...  2011   \n",
       "214   Не протяженная гетерогенность мутационного про...  2011   \n",
       "215   Отбор на длину интронов в генах Drosophila mel...  2011   \n",
       "486   Роль неконсенсусных нуклеотидов в эволюции сай...  2012   \n",
       "487   Распространенность эпистатических взаимодейств...  2012   \n",
       "488   Генетическая изменчивость в геномах Gasteroste...  2012   \n",
       "489   Отрицательный отбор на ортологичные участки ге...  2012   \n",
       "490   Отбор против аллелей с полной потерей функции ...  2012   \n",
       "751   Анализ распространённости эпистатических взаим...  2013   \n",
       "752   Геномные паттерны дивергенции в ходе адаптации...  2013   \n",
       "753   Рекомбинация сверхполиморфного гриба Schizophy...  2013   \n",
       "754   Популяционный анализ высокополиморфного вида S...  2013   \n",
       "755   Внутривидовые реассортации вызывают адаптивные...  2013   \n",
       "978    Epistasis in ultraconserved non-coding elements   2014   \n",
       "979   Within-genome mutation rate variation is not c...  2014   \n",
       "980   Inference of prevalence of epistasis from huge...  2014   \n",
       "1214       Изучение накопления замен в нонсенс-аллелях   2015   \n",
       "1215  Влияние корреляций между позициями на эволюцию...  2015   \n",
       "1216  Ускорение появления несинонимичных замен вслед...  2015   \n",
       "1217  Анализ коррелированной эволюции РНК структур п...  2015   \n",
       "1218  Анализ роли эпистатических взаимодействий в эв...  2015   \n",
       "1219  Зависимость силы отрицательного естественного ...  2015   \n",
       "1220  Эволюция локальной скорости мутирования и её д...  2015   \n",
       "1221  Смена однопозиционной пригодности ландшафтов и...  2015   \n",
       "1222       Апобек делает мутации на отстающей цепи ДНК   2015   \n",
       "1223   Поиск de novo мутаций в высокополиморфных видах   2015   \n",
       "1683  Экспериментальная эволюция базидиомицета Schiz...  2016   \n",
       "1684  Экспериментальная эволюция аскомицетного гриба...  2016   \n",
       "1685  Prediction of amino acid fitness from phylogen...  2016   \n",
       "1686  Whole-Genome Analysis of Polymorphism in a Bde...  2016   \n",
       "1687   Динамика однопозиционного адаптивного ландшафта   2016   \n",
       "1688  Evidence of Positive Selection in Parallel Evo...  2016   \n",
       "1689  Accumulation of mutations in nonsense alleles ...  2016   \n",
       "2195  Сauses of single position fitness landscape ch...  2017   \n",
       "2196  Negative selection in Drosophila melanogaster ...  2017   \n",
       "2197  Identification of genetic changes acquired by ...  2017   \n",
       "2198  Nascent DNA sequencing confirms replication in...  2017   \n",
       "2199  Evidence of Balansing Selection in Parallel Ev...  2017   \n",
       "2200  The signatures of recombination in the bdelloi...  2017   \n",
       "2201  Inference of changes of fitness landscape from...  2017   \n",
       "\n",
       "                  author  Name  Surname author_id_new Gender  \n",
       "14          G.A. Bazykin  Г.А.  Базыкин  Базыкин Г.А.   Male  \n",
       "15            G. Bazykin  Г.А.  Базыкин  Базыкин Г.А.   Male  \n",
       "16          Базыкин Г.А.  Г.А.  Базыкин  Базыкин Г.А.   Male  \n",
       "17    Georgii A. Bazykin  Г.А.  Базыкин  Базыкин Г.А.   Male  \n",
       "18    Georgii A. Bazykin  Г.А.  Базыкин  Базыкин Г.А.   Male  \n",
       "211         Базыкин Г.А.  Г.А.  Базыкин  Базыкин Г.А.   Male  \n",
       "212         Базыкин Г.А.  Г.А.  Базыкин  Базыкин Г.А.   Male  \n",
       "213         Базыкин Г.А.  Г.А.  Базыкин  Базыкин Г.А.   Male  \n",
       "214         Базыкин Г.А.  Г.А.  Базыкин  Базыкин Г.А.   Male  \n",
       "215         Базыкин Г.А.  Г.А.  Базыкин  Базыкин Г.А.   Male  \n",
       "486         Базыкин Г.А.  Г.А.  Базыкин  Базыкин Г.А.   Male  \n",
       "487         Базыкин Г.А.  Г.А.  Базыкин  Базыкин Г.А.   Male  \n",
       "488         Базыкин Г.А.  Г.А.  Базыкин  Базыкин Г.А.   Male  \n",
       "489         Базыкин Г.А.  Г.А.  Базыкин  Базыкин Г.А.   Male  \n",
       "490         Базыкин Г.А.  Г.А.  Базыкин  Базыкин Г.А.   Male  \n",
       "751         Базыкин Г.А.  Г.А.  Базыкин  Базыкин Г.А.   Male  \n",
       "752         Базыкин Г.А.  Г.А.  Базыкин  Базыкин Г.А.   Male  \n",
       "753         Базыкин Г.А.  Г.А.  Базыкин  Базыкин Г.А.   Male  \n",
       "754         Базыкин Г.А.  Г.А.  Базыкин  Базыкин Г.А.   Male  \n",
       "755         Базыкин Г.А.  Г.А.  Базыкин  Базыкин Г.А.   Male  \n",
       "978         Базыкин Г.А.  Г.А.  Базыкин  Базыкин Г.А.   Male  \n",
       "979         Базыкин Г.А.  Г.А.  Базыкин  Базыкин Г.А.   Male  \n",
       "980         Базыкин Г.А.  Г.А.  Базыкин  Базыкин Г.А.   Male  \n",
       "1214        Базыкин Г.А.  Г.А.  Базыкин  Базыкин Г.А.   Male  \n",
       "1215        Базыкин Г.А.  Г.А.  Базыкин  Базыкин Г.А.   Male  \n",
       "1216        Базыкин Г.А.  Г.А.  Базыкин  Базыкин Г.А.   Male  \n",
       "1217        Базыкин Г.А.  Г.А.  Базыкин  Базыкин Г.А.   Male  \n",
       "1218        Базыкин Г.А.  Г.А.  Базыкин  Базыкин Г.А.   Male  \n",
       "1219        Базыкин Г.А.  Г.А.  Базыкин  Базыкин Г.А.   Male  \n",
       "1220        Базыкин Г.А.  Г.А.  Базыкин  Базыкин Г.А.   Male  \n",
       "1221        Базыкин Г.А.  Г.А.  Базыкин  Базыкин Г.А.   Male  \n",
       "1222        Базыкин Г.А.  Г.А.  Базыкин  Базыкин Г.А.   Male  \n",
       "1223        Базыкин Г.А.  Г.А.  Базыкин  Базыкин Г.А.   Male  \n",
       "1683        Базыкин Г.А.  Г.А.  Базыкин  Базыкин Г.А.   Male  \n",
       "1684        Базыкин Г.А.  Г.А.  Базыкин  Базыкин Г.А.   Male  \n",
       "1685     Georgii Bazykin  Г.А.  Базыкин  Базыкин Г.А.   Male  \n",
       "1686     Georgii Bazykin  Г.А.  Базыкин  Базыкин Г.А.   Male  \n",
       "1687        Базыкин Г.А.  Г.А.  Базыкин  Базыкин Г.А.   Male  \n",
       "1688     Georgii Bazykin  Г.А.  Базыкин  Базыкин Г.А.   Male  \n",
       "1689     Georgii Bazykin  Г.А.  Базыкин  Базыкин Г.А.   Male  \n",
       "2195     Georgii Bazykin  Г.А.  Базыкин  Базыкин Г.А.   Male  \n",
       "2196     Georgii Bazykin  Г.А.  Базыкин  Базыкин Г.А.   Male  \n",
       "2197     Georgii Bazykin  Г.А.  Базыкин  Базыкин Г.А.   Male  \n",
       "2198     Georgii Bazykin  Г.А.  Базыкин  Базыкин Г.А.   Male  \n",
       "2199     Georgii Bazykin  Г.А.  Базыкин  Базыкин Г.А.   Male  \n",
       "2200     Georgii Bazykin  Г.А.  Базыкин  Базыкин Г.А.   Male  \n",
       "2201     Georgii Bazykin  Г.А.  Базыкин  Базыкин Г.А.   Male  "
      ]
     },
     "execution_count": 107,
     "metadata": {},
     "output_type": "execute_result"
    }
   ],
   "source": [
    "itas_data[itas_data['author_id_new'] == 'Базыкин Г.А.']"
   ]
  },
  {
   "cell_type": "code",
   "execution_count": 114,
   "metadata": {},
   "outputs": [],
   "source": [
    "set1 = set(itas_data[itas_data['author_id_new'] == 'Кондрашов А.С.'].title.values)"
   ]
  },
  {
   "cell_type": "code",
   "execution_count": 115,
   "metadata": {
    "collapsed": true
   },
   "outputs": [],
   "source": [
    "set2 = set(itas_data[itas_data['author_id_new'] == 'Базыкин Г.А.'].title.values)"
   ]
  },
  {
   "cell_type": "code",
   "execution_count": 117,
   "metadata": {},
   "outputs": [
    {
     "data": {
      "text/plain": [
       "27"
      ]
     },
     "execution_count": 117,
     "metadata": {},
     "output_type": "execute_result"
    }
   ],
   "source": [
    "len(set1.intersection(set2))"
   ]
  },
  {
   "cell_type": "code",
   "execution_count": null,
   "metadata": {
    "collapsed": true
   },
   "outputs": [],
   "source": [
    "def get_coauthors(df_data, per_year=True, year=None):\n",
    "    '''\n",
    "    input\n",
    "    \n",
    "    df_data: pandas Data Frame,\n",
    "             with columns: title, year, author_id_new\n",
    "             \n",
    "    per_year: bool,\n",
    "              if True, coauthors\n",
    "              will contain coathors for each year,\n",
    "              if False, see \"year\" parameter\n",
    "    year: int, \n",
    "          if \"per_year\" is False return coauthors for given year,\n",
    "          if None, return coauthors for all years\n",
    "    \n",
    "    return\n",
    "    \n",
    "    coauthors: numpy ndarray, \n",
    "               adjacency coauthorship matrix\n",
    "    '''\n",
    "    \n",
    "    data_groupby = itas_data.groupby(by=['title', 'author_id_new']).count()"
   ]
  }
 ],
 "metadata": {
  "kernelspec": {
   "display_name": "Python [conda root]",
   "language": "python",
   "name": "conda-root-py"
  },
  "language_info": {
   "codemirror_mode": {
    "name": "ipython",
    "version": 3
   },
   "file_extension": ".py",
   "mimetype": "text/x-python",
   "name": "python",
   "nbconvert_exporter": "python",
   "pygments_lexer": "ipython3",
   "version": "3.5.3"
  }
 },
 "nbformat": 4,
 "nbformat_minor": 2
}
